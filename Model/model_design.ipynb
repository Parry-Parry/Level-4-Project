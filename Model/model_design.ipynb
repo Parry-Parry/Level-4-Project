{
 "cells": [
  {
   "cell_type": "markdown",
   "id": "b77910ca",
   "metadata": {},
   "source": [
    "# Architecture"
   ]
  },
  {
   "cell_type": "markdown",
   "id": "7444d1a2",
   "metadata": {},
   "source": [
    "**Pre-Processing**\n",
    "* Divide class information and method information\n",
    "* Code2vec embedding of each method and class constructor\n",
    "* LSTM runs for each method"
   ]
  },
  {
   "cell_type": "markdown",
   "id": "4133b79a",
   "metadata": {},
   "source": [
    "**LSTM**\n",
    "* Takes in:\n",
    "    * method code vector\n",
    "    * context code vector\n",
    "* Compares to text explaination\n",
    "* Outputs text explaination"
   ]
  },
  {
   "cell_type": "markdown",
   "id": "83661ff7",
   "metadata": {},
   "source": [
    "**Transformer**\n",
    "* Takes in:\n",
    "    * one or more method explainations\n",
    "    * class name???\n",
    "* Pre-trained with attention to structure i.e sequential explaination, explain init first, etc.\n",
    "* Outputs aggregated method description to create class level explanations"
   ]
  }
 ],
 "metadata": {
  "kernelspec": {
   "display_name": "Python 3",
   "language": "python",
   "name": "python3"
  },
  "language_info": {
   "codemirror_mode": {
    "name": "ipython",
    "version": 3
   },
   "file_extension": ".py",
   "mimetype": "text/x-python",
   "name": "python",
   "nbconvert_exporter": "python",
   "pygments_lexer": "ipython3",
   "version": "3.8.8"
  }
 },
 "nbformat": 4,
 "nbformat_minor": 5
}
