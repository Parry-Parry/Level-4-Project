{
 "cells": [
  {
   "cell_type": "markdown",
   "id": "b77910ca",
   "metadata": {},
   "source": [
    "# Architecture"
   ]
  },
  {
   "cell_type": "markdown",
   "id": "7444d1a2",
   "metadata": {},
   "source": [
    "**Pre-Processing**\n",
    "* Divide class information and method information\n",
    "* Guesslang\n",
    "* Infercode Embedding\n"
   ]
  },
  {
   "cell_type": "markdown",
   "id": "4133b79a",
   "metadata": {},
   "source": [
    "**LSTM**\n",
    "* Takes in:\n",
    "    * method code vector\n",
    "* Compares to text explaination\n",
    "* Outputs text explaination"
   ]
  },
  {
   "cell_type": "markdown",
   "id": "83661ff7",
   "metadata": {},
   "source": [
    "**Transformer**\n",
    "* Takes in:\n",
    "    * one or more method explainations\n",
    "* Pre-trained with attention to structure i.e sequential explaination, explain init first, etc.\n",
    "* Outputs aggregated method description to create class level explanations"
   ]
  }
 ],
 "metadata": {
  "kernelspec": {
   "display_name": "Python 3",
   "language": "python",
   "name": "python3"
  },
  "language_info": {
   "codemirror_mode": {
    "name": "ipython",
    "version": 3
   },
   "file_extension": ".py",
   "mimetype": "text/x-python",
   "name": "python",
   "nbconvert_exporter": "python",
   "pygments_lexer": "ipython3",
   "version": "3.8.8"
  }
 },
 "nbformat": 4,
 "nbformat_minor": 5
}
