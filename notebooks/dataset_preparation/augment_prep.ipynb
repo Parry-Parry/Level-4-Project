{
 "cells": [
  {
   "cell_type": "markdown",
   "metadata": {},
   "source": [
    "# Preparation of parsed function, docstring pairs from standard libraries"
   ]
  },
  {
   "cell_type": "code",
   "execution_count": 14,
   "metadata": {},
   "outputs": [],
   "source": [
    "import pandas as pd\n",
    "from comment_parser import comment_parser as parse"
   ]
  },
  {
   "cell_type": "code",
   "execution_count": 3,
   "metadata": {},
   "outputs": [],
   "source": [
    "py_path = 'D:\\PROJECT\\Level-4-Project\\code2text\\scraper\\out_py.json'\n",
    "java_path = 'D:\\PROJECT\\Level-4-Project\\code2text\\scraper\\out_java.json'"
   ]
  },
  {
   "cell_type": "code",
   "execution_count": 5,
   "metadata": {},
   "outputs": [],
   "source": [
    "py_pairs = pd.DataFrame()\n",
    "java_pairs = pd.DataFrame()"
   ]
  },
  {
   "cell_type": "code",
   "execution_count": 6,
   "metadata": {},
   "outputs": [],
   "source": [
    "py_df = pd.read_json(py_path)\n",
    "java_df = pd.read_json(java_path)"
   ]
  },
  {
   "cell_type": "code",
   "execution_count": 19,
   "metadata": {},
   "outputs": [],
   "source": [
    "def extract(functions : pd.Series, type : str) -> pd.Series:\n",
    "    return functions.map(lambda x : \"\\n\".join([x.text() for x in parse.extract_comments_from_str(x, type) if len(x.text()) > 0]))"
   ]
  },
  {
   "cell_type": "code",
   "execution_count": 8,
   "metadata": {},
   "outputs": [],
   "source": [
    "py_pairs['code'] = py_df.identifier\n",
    "java_pairs['code'] = java_df.identifier"
   ]
  },
  {
   "cell_type": "code",
   "execution_count": 20,
   "metadata": {},
   "outputs": [],
   "source": [
    "py_pairs['docstring'] = extract(py_df.function, 'text/x-python')\n",
    "java_pairs['docstring'] = extract(java_df.function, 'text/x-java')"
   ]
  },
  {
   "cell_type": "markdown",
   "metadata": {},
   "source": [
    "## Cleaning"
   ]
  },
  {
   "cell_type": "code",
   "execution_count": 31,
   "metadata": {},
   "outputs": [],
   "source": [
    "py_clean = py_pairs[py_pairs.docstring != \"\"].reset_index()\n",
    "java_clean = java_pairs[java_pairs.docstring != \"\"].reset_index()"
   ]
  },
  {
   "cell_type": "code",
   "execution_count": 33,
   "metadata": {},
   "outputs": [
    {
     "data": {
      "text/html": [
       "<div>\n",
       "<style scoped>\n",
       "    .dataframe tbody tr th:only-of-type {\n",
       "        vertical-align: middle;\n",
       "    }\n",
       "\n",
       "    .dataframe tbody tr th {\n",
       "        vertical-align: top;\n",
       "    }\n",
       "\n",
       "    .dataframe thead th {\n",
       "        text-align: right;\n",
       "    }\n",
       "</style>\n",
       "<table border=\"1\" class=\"dataframe\">\n",
       "  <thead>\n",
       "    <tr style=\"text-align: right;\">\n",
       "      <th></th>\n",
       "      <th>function</th>\n",
       "      <th>docstring</th>\n",
       "    </tr>\n",
       "  </thead>\n",
       "  <tbody>\n",
       "    <tr>\n",
       "      <th>7</th>\n",
       "      <td>BasicAttribute.find</td>\n",
       "      <td>not found</td>\n",
       "    </tr>\n",
       "    <tr>\n",
       "      <th>8</th>\n",
       "      <td>BasicAttribute.valueEquals</td>\n",
       "      <td>object references are equal\\n obj2 was not false</td>\n",
       "    </tr>\n",
       "    <tr>\n",
       "      <th>11</th>\n",
       "      <td>BasicAttribute.remove</td>\n",
       "      <td>For the Java 2 platform, can just use \"return...</td>\n",
       "    </tr>\n",
       "    <tr>\n",
       "      <th>20</th>\n",
       "      <td>BasicAttribute.writeObject</td>\n",
       "      <td>write out the attrID</td>\n",
       "    </tr>\n",
       "    <tr>\n",
       "      <th>21</th>\n",
       "      <td>BasicAttribute.readObject</td>\n",
       "      <td>read in the attrID\\n number of values</td>\n",
       "    </tr>\n",
       "    <tr>\n",
       "      <th>...</th>\n",
       "      <td>...</td>\n",
       "      <td>...</td>\n",
       "    </tr>\n",
       "    <tr>\n",
       "      <th>309305</th>\n",
       "      <td>ExceptionUtils.rethrow</td>\n",
       "      <td>claim that the typeErasure invocation throws ...</td>\n",
       "    </tr>\n",
       "    <tr>\n",
       "      <th>309313</th>\n",
       "      <td>CharSequenceUtils.indexOf</td>\n",
       "      <td>if (cs instanceof String &amp;&amp; searchChar...</td>\n",
       "    </tr>\n",
       "    <tr>\n",
       "      <th>309314</th>\n",
       "      <td>CharSequenceUtils.indexOf</td>\n",
       "      <td>supplementary characters (LANG1300)</td>\n",
       "    </tr>\n",
       "    <tr>\n",
       "      <th>309316</th>\n",
       "      <td>CharSequenceUtils.lastIndexOf</td>\n",
       "      <td>supplementary characters (LANG1300)\\nNOTE - we...</td>\n",
       "    </tr>\n",
       "    <tr>\n",
       "      <th>309317</th>\n",
       "      <td>CharSequenceUtils.regionMatches</td>\n",
       "      <td>Extract these first so we detect NPEs the sam...</td>\n",
       "    </tr>\n",
       "  </tbody>\n",
       "</table>\n",
       "<p>51090 rows × 2 columns</p>\n",
       "</div>"
      ],
      "text/plain": [
       "                               function  \\\n",
       "7                   BasicAttribute.find   \n",
       "8            BasicAttribute.valueEquals   \n",
       "11                BasicAttribute.remove   \n",
       "20           BasicAttribute.writeObject   \n",
       "21            BasicAttribute.readObject   \n",
       "...                                 ...   \n",
       "309305           ExceptionUtils.rethrow   \n",
       "309313        CharSequenceUtils.indexOf   \n",
       "309314        CharSequenceUtils.indexOf   \n",
       "309316    CharSequenceUtils.lastIndexOf   \n",
       "309317  CharSequenceUtils.regionMatches   \n",
       "\n",
       "                                                docstring  \n",
       "7                                               not found  \n",
       "8        object references are equal\\n obj2 was not false  \n",
       "11       For the Java 2 platform, can just use \"return...  \n",
       "20                                   write out the attrID  \n",
       "21                  read in the attrID\\n number of values  \n",
       "...                                                   ...  \n",
       "309305   claim that the typeErasure invocation throws ...  \n",
       "309313          if (cs instanceof String && searchChar...  \n",
       "309314                supplementary characters (LANG1300)  \n",
       "309316  supplementary characters (LANG1300)\\nNOTE - we...  \n",
       "309317   Extract these first so we detect NPEs the sam...  \n",
       "\n",
       "[51090 rows x 2 columns]"
      ]
     },
     "execution_count": 33,
     "metadata": {},
     "output_type": "execute_result"
    }
   ],
   "source": [
    "java_clean"
   ]
  }
 ],
 "metadata": {
  "interpreter": {
   "hash": "992d97f93a80067216bc7a599f899228c284bb4cf3c917355bcf1f605212be1a"
  },
  "kernelspec": {
   "display_name": "Python 3.9.7 ('tfgpu')",
   "language": "python",
   "name": "python3"
  },
  "language_info": {
   "codemirror_mode": {
    "name": "ipython",
    "version": 3
   },
   "file_extension": ".py",
   "mimetype": "text/x-python",
   "name": "python",
   "nbconvert_exporter": "python",
   "pygments_lexer": "ipython3",
   "version": "3.10.0"
  },
  "orig_nbformat": 4
 },
 "nbformat": 4,
 "nbformat_minor": 2
}
