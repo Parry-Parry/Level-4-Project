{
 "cells": [
  {
   "cell_type": "markdown",
   "metadata": {},
   "source": [
    "# Preparation of parsed function, docstring pairs from standard libraries"
   ]
  },
  {
   "cell_type": "code",
   "execution_count": 1,
   "metadata": {},
   "outputs": [],
   "source": [
    "import pandas as pd\n",
    "from tqdm import tqdm"
   ]
  },
  {
   "cell_type": "code",
   "execution_count": 2,
   "metadata": {},
   "outputs": [],
   "source": [
    "in_path = \"D:\\PROJECT\\data\\CodeSearchNet\\\\aug_python_bleu_filter\"\n",
    "out_path = \"D:\\PROJECT\\data\\CodeSearchNet\\\\aug_python_bleu_clean\"\n",
    "filenames = [\"train\", \"test\", \"valid\"]"
   ]
  },
  {
   "cell_type": "code",
   "execution_count": 3,
   "metadata": {},
   "outputs": [
    {
     "name": "stderr",
     "output_type": "stream",
     "text": [
      "100%|██████████| 3/3 [00:05<00:00,  1.71s/it]\n"
     ]
    }
   ],
   "source": [
    "dataset_frame = {file : pd.read_json(os.path.join(in_path, file + \".jsonl\"), lines=True) for file in filenames}\n",
    "\n",
    "for k, v in tqdm(dataset_frame.items()):\n",
    "    frame = v[['code', 'docstring']]\n",
    "    frame.to_json(os.path.join(out_path, k + \".jsonl\"), orient='records', lines=True)"
   ]
  },
  {
   "cell_type": "markdown",
   "metadata": {},
   "source": [
    "# OLD"
   ]
  },
  {
   "cell_type": "code",
   "execution_count": 2,
   "metadata": {},
   "outputs": [],
   "source": [
    "py_path = 'D:\\PROJECT\\data\\out.json'\n",
    "java_path = 'D:\\PROJECT\\scraper_tmp\\out_java.json'"
   ]
  },
  {
   "cell_type": "code",
   "execution_count": 3,
   "metadata": {},
   "outputs": [],
   "source": [
    "py_pairs = pd.DataFrame()\n",
    "java_pairs = pd.DataFrame()"
   ]
  },
  {
   "cell_type": "code",
   "execution_count": 4,
   "metadata": {},
   "outputs": [],
   "source": [
    "py_df = pd.read_json(py_path)\n",
    "java_df = pd.read_json(java_path)"
   ]
  },
  {
   "cell_type": "code",
   "execution_count": 5,
   "metadata": {},
   "outputs": [],
   "source": [
    "def extract(functions : pd.Series, type : str) -> pd.Series:\n",
    "    return functions.map(lambda x : \"\\n\".join([x.text() for x in parse.extract_comments_from_str(x, type) if len(x.text()) > 0]))"
   ]
  },
  {
   "cell_type": "code",
   "execution_count": 7,
   "metadata": {},
   "outputs": [],
   "source": [
    "py_pairs['code'] = py_df.code\n",
    "java_pairs['code'] = java_df.identifier"
   ]
  },
  {
   "cell_type": "code",
   "execution_count": 8,
   "metadata": {},
   "outputs": [],
   "source": [
    "py_pairs['code'] = py_pairs['code'].map(lambda x : x.split(\".\")[-1] if \".\" in x else x)\n",
    "java_pairs['code'] = java_pairs['code'].map(lambda x : x.split(\".\")[-1] if \".\" in x else x)"
   ]
  },
  {
   "cell_type": "code",
   "execution_count": 10,
   "metadata": {},
   "outputs": [],
   "source": [
    "py_pairs['docstring'] = py_df.docstring\n",
    "java_pairs['docstring'] = extract(java_df.function, 'text/x-java')"
   ]
  },
  {
   "cell_type": "markdown",
   "metadata": {},
   "source": [
    "## Cleaning"
   ]
  },
  {
   "cell_type": "code",
   "execution_count": 11,
   "metadata": {},
   "outputs": [],
   "source": [
    "def stopPhrase(x):\n",
    "    remove = [\"supplementary characters (LANG1300)\", \"not found\", \"NOI18N\", \"\\n\\n\"]\n",
    "    for phrase in remove:\n",
    "        x = x.replace(phrase, \"\")\n",
    "    return x if x != \"\\n\" else \"\""
   ]
  },
  {
   "cell_type": "code",
   "execution_count": null,
   "metadata": {},
   "outputs": [],
   "source": []
  },
  {
   "cell_type": "code",
   "execution_count": 12,
   "metadata": {},
   "outputs": [],
   "source": [
    "py_pairs['docstring'] = py_pairs['docstring'].apply(lambda x : stopPhrase(x))\n",
    "java_pairs['docstring'] = java_pairs['docstring'].apply(lambda x : stopPhrase(x))"
   ]
  },
  {
   "cell_type": "code",
   "execution_count": 13,
   "metadata": {},
   "outputs": [],
   "source": [
    "py_clean = py_pairs[py_pairs.docstring != \"\"].reset_index(drop=True)\n",
    "java_clean = java_pairs[java_pairs.docstring != \"\"].reset_index(drop=True)"
   ]
  },
  {
   "cell_type": "code",
   "execution_count": 14,
   "metadata": {},
   "outputs": [
    {
     "data": {
      "text/html": [
       "<div>\n",
       "<style scoped>\n",
       "    .dataframe tbody tr th:only-of-type {\n",
       "        vertical-align: middle;\n",
       "    }\n",
       "\n",
       "    .dataframe tbody tr th {\n",
       "        vertical-align: top;\n",
       "    }\n",
       "\n",
       "    .dataframe thead th {\n",
       "        text-align: right;\n",
       "    }\n",
       "</style>\n",
       "<table border=\"1\" class=\"dataframe\">\n",
       "  <thead>\n",
       "    <tr style=\"text-align: right;\">\n",
       "      <th></th>\n",
       "      <th>code</th>\n",
       "      <th>docstring</th>\n",
       "    </tr>\n",
       "  </thead>\n",
       "  <tbody>\n",
       "    <tr>\n",
       "      <th>0</th>\n",
       "      <td>is_inplace</td>\n",
       "      <td>Whether we expect the setting to be in-place o...</td>\n",
       "    </tr>\n",
       "    <tr>\n",
       "      <th>1</th>\n",
       "      <td>val</td>\n",
       "      <td>NA values that should generally be valid_na fo...</td>\n",
       "    </tr>\n",
       "    <tr>\n",
       "      <th>2</th>\n",
       "      <td>test_clip_with_na_args</td>\n",
       "      <td>Should process np.nan argument as None</td>\n",
       "    </tr>\n",
       "    <tr>\n",
       "      <th>3</th>\n",
       "      <td>test_interpolate_timedelta_index</td>\n",
       "      <td>Tests for non numerical index types  - object,...</td>\n",
       "    </tr>\n",
       "    <tr>\n",
       "      <th>4</th>\n",
       "      <td>get_freq</td>\n",
       "      <td>Find the appropriate frequency string to descr...</td>\n",
       "    </tr>\n",
       "    <tr>\n",
       "      <th>...</th>\n",
       "      <td>...</td>\n",
       "      <td>...</td>\n",
       "    </tr>\n",
       "    <tr>\n",
       "      <th>60376</th>\n",
       "      <td>on_key_press</td>\n",
       "      <td>Callback for key presses.</td>\n",
       "    </tr>\n",
       "    <tr>\n",
       "      <th>60377</th>\n",
       "      <td>on_mouse_move</td>\n",
       "      <td>Callback for mouse movements.</td>\n",
       "    </tr>\n",
       "    <tr>\n",
       "      <th>60378</th>\n",
       "      <td>test_clip_with_na_args</td>\n",
       "      <td>Should process np.nan argument as None</td>\n",
       "    </tr>\n",
       "    <tr>\n",
       "      <th>60379</th>\n",
       "      <td>test_interpolate_timedelta_index</td>\n",
       "      <td>Tests for non numerical index types  - object,...</td>\n",
       "    </tr>\n",
       "    <tr>\n",
       "      <th>60380</th>\n",
       "      <td>redirects</td>\n",
       "      <td>The mapping of the redirectes.</td>\n",
       "    </tr>\n",
       "  </tbody>\n",
       "</table>\n",
       "<p>60381 rows × 2 columns</p>\n",
       "</div>"
      ],
      "text/plain": [
       "                                   code  \\\n",
       "0                            is_inplace   \n",
       "1                                   val   \n",
       "2                test_clip_with_na_args   \n",
       "3      test_interpolate_timedelta_index   \n",
       "4                              get_freq   \n",
       "...                                 ...   \n",
       "60376                      on_key_press   \n",
       "60377                     on_mouse_move   \n",
       "60378            test_clip_with_na_args   \n",
       "60379  test_interpolate_timedelta_index   \n",
       "60380                         redirects   \n",
       "\n",
       "                                               docstring  \n",
       "0      Whether we expect the setting to be in-place o...  \n",
       "1      NA values that should generally be valid_na fo...  \n",
       "2                 Should process np.nan argument as None  \n",
       "3      Tests for non numerical index types  - object,...  \n",
       "4      Find the appropriate frequency string to descr...  \n",
       "...                                                  ...  \n",
       "60376                          Callback for key presses.  \n",
       "60377                      Callback for mouse movements.  \n",
       "60378             Should process np.nan argument as None  \n",
       "60379  Tests for non numerical index types  - object,...  \n",
       "60380                     The mapping of the redirectes.  \n",
       "\n",
       "[60381 rows x 2 columns]"
      ]
     },
     "execution_count": 14,
     "metadata": {},
     "output_type": "execute_result"
    }
   ],
   "source": [
    "py_clean"
   ]
  },
  {
   "cell_type": "code",
   "execution_count": 15,
   "metadata": {},
   "outputs": [],
   "source": [
    "import os\n",
    "augment_path = \"D:\\PROJECT\\Augments\"\n",
    "java = \"java.jsonl\"\n",
    "py = \"python.jsonl\"\n",
    "\n",
    "java_clean.dropna().to_json(os.path.join(augment_path, java), orient=\"records\", lines=True)\n",
    "py_clean.dropna().to_json(os.path.join(augment_path, py), orient=\"records\", lines=True)"
   ]
  }
 ],
 "metadata": {
  "interpreter": {
   "hash": "992d97f93a80067216bc7a599f899228c284bb4cf3c917355bcf1f605212be1a"
  },
  "kernelspec": {
   "display_name": "Python 3.9.7 ('tfgpu')",
   "language": "python",
   "name": "python3"
  },
  "language_info": {
   "codemirror_mode": {
    "name": "ipython",
    "version": 3
   },
   "file_extension": ".py",
   "mimetype": "text/x-python",
   "name": "python",
   "nbconvert_exporter": "python",
   "pygments_lexer": "ipython3",
   "version": "3.9.7"
  },
  "orig_nbformat": 4
 },
 "nbformat": 4,
 "nbformat_minor": 2
}
