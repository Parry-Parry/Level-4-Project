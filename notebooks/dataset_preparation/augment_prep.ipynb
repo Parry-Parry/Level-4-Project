{
 "cells": [
  {
   "cell_type": "markdown",
   "metadata": {},
   "source": [
    "# Preparation of parsed function, docstring pairs from standard libraries"
   ]
  },
  {
   "cell_type": "code",
   "execution_count": 116,
   "metadata": {},
   "outputs": [],
   "source": [
    "import pandas as pd\n",
    "from comment_parser import comment_parser as parse"
   ]
  },
  {
   "cell_type": "code",
   "execution_count": 117,
   "metadata": {},
   "outputs": [],
   "source": [
    "py_path = 'D:\\PROJECT\\data\\out.json'\n",
    "java_path = 'D:\\PROJECT\\scraper_tmp\\out_java.json'"
   ]
  },
  {
   "cell_type": "code",
   "execution_count": 118,
   "metadata": {},
   "outputs": [],
   "source": [
    "py_pairs = pd.DataFrame()\n",
    "java_pairs = pd.DataFrame()"
   ]
  },
  {
   "cell_type": "code",
   "execution_count": 119,
   "metadata": {},
   "outputs": [],
   "source": [
    "py_df = pd.read_json(py_path)\n",
    "java_df = pd.read_json(java_path)"
   ]
  },
  {
   "cell_type": "code",
   "execution_count": 120,
   "metadata": {},
   "outputs": [],
   "source": [
    "def extract(functions : pd.Series, type : str) -> pd.Series:\n",
    "    return functions.map(lambda x : \"\\n\".join([x.text() for x in parse.extract_comments_from_str(x, type) if len(x.text()) > 0]))"
   ]
  },
  {
   "cell_type": "code",
   "execution_count": 121,
   "metadata": {},
   "outputs": [],
   "source": [
    "py_pairs['code'] = py_df.identifier\n",
    "java_pairs['code'] = java_df.identifier"
   ]
  },
  {
   "cell_type": "code",
   "execution_count": 122,
   "metadata": {},
   "outputs": [],
   "source": [
    "py_pairs['code'] = py_pairs['code'].map(lambda x : x.split(\".\")[-1] if \".\" in x else x)\n",
    "java_pairs['code'] = java_pairs['code'].map(lambda x : x.split(\".\")[-1] if \".\" in x else x)"
   ]
  },
  {
   "cell_type": "code",
   "execution_count": 123,
   "metadata": {},
   "outputs": [],
   "source": [
    "py_pairs['docstring'] = extract(py_df.function, 'text/x-python')\n",
    "java_pairs['docstring'] = extract(java_df.function, 'text/x-java')"
   ]
  },
  {
   "cell_type": "markdown",
   "metadata": {},
   "source": [
    "## Cleaning"
   ]
  },
  {
   "cell_type": "code",
   "execution_count": 124,
   "metadata": {},
   "outputs": [],
   "source": [
    "def stopPhrase(x):\n",
    "    remove = [\"supplementary characters (LANG1300)\", \"not found\", \"NOI18N\", \"\\n\\n\"]\n",
    "    for phrase in remove:\n",
    "        x = x.replace(phrase, \"\")\n",
    "    return x if x != \"\\n\" else \"\""
   ]
  },
  {
   "cell_type": "code",
   "execution_count": 125,
   "metadata": {},
   "outputs": [],
   "source": [
    "py_pairs['docstring'] = py_pairs['docstring'].apply(lambda x : stopPhrase(x))\n",
    "java_pairs['docstring'] = java_pairs['docstring'].apply(lambda x : stopPhrase(x))"
   ]
  },
  {
   "cell_type": "code",
   "execution_count": 126,
   "metadata": {},
   "outputs": [],
   "source": [
    "py_clean = py_pairs[py_pairs.docstring != \"\"].reset_index(drop=True)\n",
    "java_clean = java_pairs[java_pairs.docstring != \"\"].reset_index(drop=True)"
   ]
  },
  {
   "cell_type": "code",
   "execution_count": 127,
   "metadata": {},
   "outputs": [
    {
     "data": {
      "text/html": [
       "<div>\n",
       "<style scoped>\n",
       "    .dataframe tbody tr th:only-of-type {\n",
       "        vertical-align: middle;\n",
       "    }\n",
       "\n",
       "    .dataframe tbody tr th {\n",
       "        vertical-align: top;\n",
       "    }\n",
       "\n",
       "    .dataframe thead th {\n",
       "        text-align: right;\n",
       "    }\n",
       "</style>\n",
       "<table border=\"1\" class=\"dataframe\">\n",
       "  <thead>\n",
       "    <tr style=\"text-align: right;\">\n",
       "      <th></th>\n",
       "      <th>code</th>\n",
       "      <th>docstring</th>\n",
       "    </tr>\n",
       "  </thead>\n",
       "  <tbody>\n",
       "    <tr>\n",
       "      <th>0</th>\n",
       "      <td>getDefaultDebugClassPath</td>\n",
       "      <td></td>\n",
       "    </tr>\n",
       "    <tr>\n",
       "      <th>1</th>\n",
       "      <td>correctDebugClassPath</td>\n",
       "      <td>should not happen\\n \"invalid\" strings\\n \\n \\n...</td>\n",
       "    </tr>\n",
       "    <tr>\n",
       "      <th>2</th>\n",
       "      <td>getErrorColor</td>\n",
       "      <td>inspired by org.openide.WizardDescriptor\\n</td>\n",
       "    </tr>\n",
       "    <tr>\n",
       "      <th>3</th>\n",
       "      <td>logUsage</td>\n",
       "      <td>\\n</td>\n",
       "    </tr>\n",
       "    <tr>\n",
       "      <th>4</th>\n",
       "      <td>getRootURL</td>\n",
       "      <td>\\n</td>\n",
       "    </tr>\n",
       "    <tr>\n",
       "      <th>...</th>\n",
       "      <td>...</td>\n",
       "      <td>...</td>\n",
       "    </tr>\n",
       "    <tr>\n",
       "      <th>111522</th>\n",
       "      <td>removeCommonFrames</td>\n",
       "      <td>Remove the frame from the cause trace if it i...</td>\n",
       "    </tr>\n",
       "    <tr>\n",
       "      <th>111523</th>\n",
       "      <td>rethrow</td>\n",
       "      <td>claim that the typeErasure invocation throws ...</td>\n",
       "    </tr>\n",
       "    <tr>\n",
       "      <th>111524</th>\n",
       "      <td>indexOf</td>\n",
       "      <td>if (cs instanceof String &amp;&amp; searchChar...</td>\n",
       "    </tr>\n",
       "    <tr>\n",
       "      <th>111525</th>\n",
       "      <td>lastIndexOf</td>\n",
       "      <td>\\nNOTE - we must do a forward traversal for th...</td>\n",
       "    </tr>\n",
       "    <tr>\n",
       "      <th>111526</th>\n",
       "      <td>regionMatches</td>\n",
       "      <td>Extract these first so we detect NPEs the sam...</td>\n",
       "    </tr>\n",
       "  </tbody>\n",
       "</table>\n",
       "<p>111527 rows × 2 columns</p>\n",
       "</div>"
      ],
      "text/plain": [
       "                            code  \\\n",
       "0       getDefaultDebugClassPath   \n",
       "1          correctDebugClassPath   \n",
       "2                  getErrorColor   \n",
       "3                       logUsage   \n",
       "4                     getRootURL   \n",
       "...                          ...   \n",
       "111522        removeCommonFrames   \n",
       "111523                   rethrow   \n",
       "111524                   indexOf   \n",
       "111525               lastIndexOf   \n",
       "111526             regionMatches   \n",
       "\n",
       "                                                docstring  \n",
       "0                                                          \n",
       "1        should not happen\\n \"invalid\" strings\\n \\n \\n...  \n",
       "2              inspired by org.openide.WizardDescriptor\\n  \n",
       "3                                                     \\n   \n",
       "4                                                     \\n   \n",
       "...                                                   ...  \n",
       "111522   Remove the frame from the cause trace if it i...  \n",
       "111523   claim that the typeErasure invocation throws ...  \n",
       "111524          if (cs instanceof String && searchChar...  \n",
       "111525  \\nNOTE - we must do a forward traversal for th...  \n",
       "111526   Extract these first so we detect NPEs the sam...  \n",
       "\n",
       "[111527 rows x 2 columns]"
      ]
     },
     "execution_count": 127,
     "metadata": {},
     "output_type": "execute_result"
    }
   ],
   "source": [
    "java_clean"
   ]
  },
  {
   "cell_type": "code",
   "execution_count": 128,
   "metadata": {},
   "outputs": [],
   "source": [
    "import os\n",
    "augment_path = \"D:\\PROJECT\\Augments\"\n",
    "java = \"java.jsonl\"\n",
    "py = \"python.jsonl\"\n",
    "\n",
    "java_clean.dropna().to_json(os.path.join(augment_path, java), orient=\"records\", lines=True)\n",
    "py_clean.dropna().to_json(os.path.join(augment_path, py), orient=\"records\", lines=True)"
   ]
  }
 ],
 "metadata": {
  "interpreter": {
   "hash": "992d97f93a80067216bc7a599f899228c284bb4cf3c917355bcf1f605212be1a"
  },
  "kernelspec": {
   "display_name": "Python 3.9.7 ('tfgpu')",
   "language": "python",
   "name": "python3"
  },
  "language_info": {
   "codemirror_mode": {
    "name": "ipython",
    "version": 3
   },
   "file_extension": ".py",
   "mimetype": "text/x-python",
   "name": "python",
   "nbconvert_exporter": "python",
   "pygments_lexer": "ipython3",
   "version": "3.10.0"
  },
  "orig_nbformat": 4
 },
 "nbformat": 4,
 "nbformat_minor": 2
}
