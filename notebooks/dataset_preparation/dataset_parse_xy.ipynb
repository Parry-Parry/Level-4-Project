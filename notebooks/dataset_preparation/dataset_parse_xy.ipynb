{
 "cells": [
  {
   "cell_type": "code",
   "execution_count": 2,
   "id": "c23a9808",
   "metadata": {},
   "outputs": [
    {
     "data": {
      "text/plain": [
       "<dask.config.set at 0x2197e1766a0>"
      ]
     },
     "execution_count": 2,
     "metadata": {},
     "output_type": "execute_result"
    }
   ],
   "source": [
    "import dask\n",
    "import dask.dataframe as dd\n",
    "from dask.diagnostics import ProgressBar\n",
    "\n",
    "import pandas as pd\n",
    "from pandas import DataFrame as df\n",
    "\n",
    "import numpy as np\n",
    "import re\n",
    "import csv\n",
    "\n",
    "dask.config.set(scheduler='multiprocessing')"
   ]
  },
  {
   "cell_type": "markdown",
   "id": "4cd3ed4d",
   "metadata": {},
   "source": [
    "### Combine 3 Datasets"
   ]
  },
  {
   "cell_type": "code",
   "execution_count": null,
   "id": "e7fa1272",
   "metadata": {},
   "outputs": [],
   "source": [
    "'''\n",
    "TODO:\n",
    "    Function to efficiently search for answer code block values\n",
    "    Execute code blocks (ANTLR)\n",
    "'''"
   ]
  },
  {
   "cell_type": "markdown",
   "id": "e40233ef",
   "metadata": {},
   "source": [
    "# Regex to extract code blocks\n",
    "* Find max length block and transfer to new column\n",
    "* Check for \"ERROR\" and drop columns"
   ]
  },
  {
   "cell_type": "markdown",
   "id": "89de731b",
   "metadata": {},
   "source": [
    "## Parse main code block"
   ]
  },
  {
   "cell_type": "code",
   "execution_count": 71,
   "id": "15d9767f",
   "metadata": {},
   "outputs": [],
   "source": [
    "def extract_code_block(body) -> str:\n",
    "    pattern = r'<code>(.*?)</code>'\n",
    "    match = re.findall(pattern, body)\n",
    "    return \"Error\" if not match else str(max(match, key=len))"
   ]
  },
  {
   "cell_type": "markdown",
   "id": "1177281f",
   "metadata": {},
   "source": [
    "### Testing"
   ]
  },
  {
   "cell_type": "code",
   "execution_count": 72,
   "id": "5d7e3159",
   "metadata": {},
   "outputs": [],
   "source": [
    "string1 = \"Testing <code>long</code> something about this block <code>longer</code> xyz <code>longest</code>\"\n",
    "string2 = \"Test without code\""
   ]
  },
  {
   "cell_type": "code",
   "execution_count": 73,
   "id": "871093cc",
   "metadata": {},
   "outputs": [],
   "source": [
    "df = pd.DataFrame()\n",
    "df['body'] = [string1, string2]"
   ]
  },
  {
   "cell_type": "code",
   "execution_count": 74,
   "id": "e07df56a",
   "metadata": {},
   "outputs": [],
   "source": [
    "df['block'] = df['body'].map(lambda x : extract_code_block(x))"
   ]
  },
  {
   "cell_type": "code",
   "execution_count": 75,
   "id": "7f4d20c5",
   "metadata": {},
   "outputs": [
    {
     "data": {
      "text/html": [
       "<div>\n",
       "<style scoped>\n",
       "    .dataframe tbody tr th:only-of-type {\n",
       "        vertical-align: middle;\n",
       "    }\n",
       "\n",
       "    .dataframe tbody tr th {\n",
       "        vertical-align: top;\n",
       "    }\n",
       "\n",
       "    .dataframe thead th {\n",
       "        text-align: right;\n",
       "    }\n",
       "</style>\n",
       "<table border=\"1\" class=\"dataframe\">\n",
       "  <thead>\n",
       "    <tr style=\"text-align: right;\">\n",
       "      <th></th>\n",
       "      <th>body</th>\n",
       "      <th>block</th>\n",
       "    </tr>\n",
       "  </thead>\n",
       "  <tbody>\n",
       "    <tr>\n",
       "      <th>0</th>\n",
       "      <td>Testing &lt;code&gt;long&lt;/code&gt; something about this...</td>\n",
       "      <td>longest</td>\n",
       "    </tr>\n",
       "    <tr>\n",
       "      <th>1</th>\n",
       "      <td>Test without code</td>\n",
       "      <td>Error</td>\n",
       "    </tr>\n",
       "  </tbody>\n",
       "</table>\n",
       "</div>"
      ],
      "text/plain": [
       "                                                body    block\n",
       "0  Testing <code>long</code> something about this...  longest\n",
       "1                                  Test without code    Error"
      ]
     },
     "execution_count": 75,
     "metadata": {},
     "output_type": "execute_result"
    }
   ],
   "source": [
    "df"
   ]
  },
  {
   "cell_type": "markdown",
   "id": "4be3c3aa",
   "metadata": {},
   "source": [
    "## Parse Body"
   ]
  },
  {
   "cell_type": "code",
   "execution_count": 4,
   "id": "411f73eb",
   "metadata": {},
   "outputs": [],
   "source": [
    "def extract_body_block(body) -> str:\n",
    "    pattern = r'<p>(.*?)</p>'\n",
    "    code = r'(<.*?>)'\n",
    "    match = re.findall(pattern, body)\n",
    "    if not match:\n",
    "        return \"Error\"\n",
    "    else:\n",
    "        match = [re.sub(code, \"\", m) for m in match]\n",
    "        strings = [str(m).lower() for m in match]\n",
    "        return '\\n'.join(strings)"
   ]
  },
  {
   "cell_type": "markdown",
   "id": "e5988c37",
   "metadata": {},
   "source": [
    "## Structure of x, y pre-clean\n",
    "\n",
    "* Parse body and code for all rows\n",
    "* drop all columns apart from id, accepted id and text\n",
    "* pair code block of accepted with body of original into new frame\n",
    "\n",
    "## Cleaning\n",
    "\n",
    "* Compile code blocks?\n",
    "* Clean y data, maybe remove contractions?\n",
    "* Maybe generate new pairs to enrich language?\n",
    "\n"
   ]
  },
  {
   "cell_type": "code",
   "execution_count": 5,
   "id": "d5c17c39",
   "metadata": {},
   "outputs": [],
   "source": [
    "def to_pandas(path) -> pd.DataFrame:\n",
    "    tmp = dd.read_parquet(path, engine='fastparquet')  \n",
    "    print(\"Converting to Pandas Frame...\")\n",
    "    with ProgressBar():\n",
    "        df = tmp.compute()\n",
    "        print(\"Done\")\n",
    "    return df"
   ]
  },
  {
   "cell_type": "code",
   "execution_count": 6,
   "id": "92db405c",
   "metadata": {},
   "outputs": [],
   "source": [
    "def parse_body_blocks(path) -> pd.DataFrame:\n",
    "    tmp = dd.read_parquet(path, engine='fastparquet')  \n",
    "\n",
    "    print(\"Converting to Pandas Frame...\")\n",
    "    with ProgressBar():\n",
    "        df = tmp.compute()\n",
    "        df.reset_index()\n",
    "        print(\"Done\")\n",
    "\n",
    "    print(\"Extracting body text...\")\n",
    "    with ProgressBar():\n",
    "        df['text'] = df['body'].map(lambda x : extract_body_block(x))\n",
    "        print(\"Done\")\n",
    "    \n",
    "    df.drop(['id', 'score', 'title', 'tags', 'body', 'post_type_id'], axis='columns', inplace=True)\n",
    "    df = remove_errors(df, 'text')\n",
    "\n",
    "    return df"
   ]
  },
  {
   "cell_type": "code",
   "execution_count": 7,
   "id": "a4cb8d10",
   "metadata": {},
   "outputs": [],
   "source": [
    "def remove_errors(frame, type) -> pd.DataFrame:\n",
    "    print(\"Removing empty {} blocks...\".format(type))\n",
    "    frame = frame[frame[type] != \"Error\"]\n",
    "    print(\"Done\")\n",
    "    return frame"
   ]
  },
  {
   "cell_type": "code",
   "execution_count": 61,
   "id": "68db8e2f",
   "metadata": {},
   "outputs": [],
   "source": [
    "def pairs(frame, y_path) -> pd.DataFrame:\n",
    "    df = pd.read_csv(y_path, engine='python', encoding='utf-8')\n",
    "    \n",
    "    df['accepted_answer_id'] = df['accepted_answer_id'].astype(str)\n",
    "    df.convert_dtypes()\n",
    "\n",
    "    df = pd.merge(df, frame, how='inner', left_on='accepted_answer_id', right_on='id')\n",
    "\n",
    "    return df"
   ]
  },
  {
   "cell_type": "code",
   "execution_count": 8,
   "id": "829c62a6",
   "metadata": {},
   "outputs": [],
   "source": [
    "def prep_y(path, out) -> None:\n",
    "    tmp = parse_body_blocks(path)\n",
    "    tmp = tmp[tmp['accepted_answer_id']!= 0]\n",
    "    tmp.to_csv(out)"
   ]
  },
  {
   "cell_type": "code",
   "execution_count": 2,
   "id": "8fd9be87",
   "metadata": {},
   "outputs": [],
   "source": [
    "def y_indices(paths) -> list:\n",
    "    indices = list()\n",
    "    for path in paths:\n",
    "        df = pd.read_csv(path, engine='python', encoding='utf-8')\n",
    "        indices.append(df['accepted_answer_id'])\n",
    "    return pd.concat(indices).to_list()"
   ]
  },
  {
   "cell_type": "markdown",
   "id": "4abc158b",
   "metadata": {},
   "source": [
    "## Preparation"
   ]
  },
  {
   "cell_type": "markdown",
   "id": "2170bc38",
   "metadata": {},
   "source": [
    "### Each language set is parsed and stored in a new csv"
   ]
  },
  {
   "cell_type": "code",
   "execution_count": 21,
   "id": "52be3ef8",
   "metadata": {},
   "outputs": [
    {
     "name": "stdout",
     "output_type": "stream",
     "text": [
      "Converting to Pandas Frame...\n",
      "[########################################] | 100% Completed | 14.3s\n",
      "Done\n",
      "Extracting body text...\n",
      "Done\n",
      "Removing empty text blocks...\n",
      "Done\n",
      "Converting to Pandas Frame...\n",
      "[########################################] | 100% Completed | 28.2s\n",
      "Done\n",
      "Extracting body text...\n",
      "Done\n",
      "Removing empty text blocks...\n",
      "Done\n",
      "Converting to Pandas Frame...\n",
      "[########################################] | 100% Completed |  8.7s\n",
      "Done\n",
      "Extracting body text...\n",
      "Done\n",
      "Removing empty text blocks...\n",
      "Done\n"
     ]
    }
   ],
   "source": [
    "prep_y('D:\\PROJECT\\dataset_select\\python.parq', 'D:\\PROJECT\\dataset_select\\y\\python.csv')\n",
    "prep_y('D:\\PROJECT\\dataset_select\\java.parq', 'D:\\PROJECT\\dataset_select\\y\\java.csv')\n",
    "prep_y('D:\\PROJECT\\dataset_select\\c.parq', 'D:\\PROJECT\\dataset_select\\y\\c.csv')"
   ]
  },
  {
   "cell_type": "markdown",
   "id": "43e534ad",
   "metadata": {},
   "source": [
    "## Creating new parquet with only answers\n",
    "\n",
    "* Post type 2 corresponds to answers\n",
    "* Other columns are dropped to save space during mapping"
   ]
  },
  {
   "cell_type": "code",
   "execution_count": 3,
   "id": "ec1ae3dd",
   "metadata": {},
   "outputs": [],
   "source": [
    "posts = dd.read_parquet('D:\\PROJECT\\dataset_parq\\posts.parq', engine='fastparquet')"
   ]
  },
  {
   "cell_type": "code",
   "execution_count": 4,
   "id": "263da302",
   "metadata": {},
   "outputs": [
    {
     "data": {
      "text/html": [
       "<div><strong>Dask DataFrame Structure:</strong></div>\n",
       "<div>\n",
       "<style scoped>\n",
       "    .dataframe tbody tr th:only-of-type {\n",
       "        vertical-align: middle;\n",
       "    }\n",
       "\n",
       "    .dataframe tbody tr th {\n",
       "        vertical-align: top;\n",
       "    }\n",
       "\n",
       "    .dataframe thead th {\n",
       "        text-align: right;\n",
       "    }\n",
       "</style>\n",
       "<table border=\"1\" class=\"dataframe\">\n",
       "  <thead>\n",
       "    <tr style=\"text-align: right;\">\n",
       "      <th></th>\n",
       "      <th>id</th>\n",
       "      <th>body</th>\n",
       "    </tr>\n",
       "    <tr>\n",
       "      <th>npartitions=100</th>\n",
       "      <th></th>\n",
       "      <th></th>\n",
       "    </tr>\n",
       "  </thead>\n",
       "  <tbody>\n",
       "    <tr>\n",
       "      <th></th>\n",
       "      <td>int64</td>\n",
       "      <td>object</td>\n",
       "    </tr>\n",
       "    <tr>\n",
       "      <th></th>\n",
       "      <td>...</td>\n",
       "      <td>...</td>\n",
       "    </tr>\n",
       "    <tr>\n",
       "      <th>...</th>\n",
       "      <td>...</td>\n",
       "      <td>...</td>\n",
       "    </tr>\n",
       "    <tr>\n",
       "      <th></th>\n",
       "      <td>...</td>\n",
       "      <td>...</td>\n",
       "    </tr>\n",
       "    <tr>\n",
       "      <th></th>\n",
       "      <td>...</td>\n",
       "      <td>...</td>\n",
       "    </tr>\n",
       "  </tbody>\n",
       "</table>\n",
       "</div>\n",
       "<div>Dask Name: repartition, 403 tasks</div>"
      ],
      "text/plain": [
       "Dask DataFrame Structure:\n",
       "                    id    body\n",
       "npartitions=100               \n",
       "                 int64  object\n",
       "                   ...     ...\n",
       "...                ...     ...\n",
       "                   ...     ...\n",
       "                   ...     ...\n",
       "Dask Name: repartition, 403 tasks"
      ]
     },
     "execution_count": 4,
     "metadata": {},
     "output_type": "execute_result"
    }
   ],
   "source": [
    "answers = posts.query(\"post_type_id == 2\")\n",
    "answers = answers.drop(['accepted_answer_id', 'score', 'title', 'tags', 'post_type_id'], axis='columns')\n",
    "answers.repartition(npartitions=100)"
   ]
  },
  {
   "cell_type": "code",
   "execution_count": 5,
   "id": "2ca43b1b",
   "metadata": {},
   "outputs": [
    {
     "name": "stdout",
     "output_type": "stream",
     "text": [
      "[########################################] | 100% Completed | 10min 36.8s\n"
     ]
    }
   ],
   "source": [
    "with ProgressBar():\n",
    "    answers.to_csv('D:\\PROJECT\\dataset_select\\clean_answers.csv', single_file=True)"
   ]
  },
  {
   "cell_type": "markdown",
   "id": "81a30ed3",
   "metadata": {},
   "source": [
    "## Retrieve all post indices and reduce answer set"
   ]
  },
  {
   "cell_type": "code",
   "execution_count": 6,
   "id": "5ff38449",
   "metadata": {},
   "outputs": [],
   "source": [
    "indices = y_indices(['D:\\PROJECT\\dataset_select\\y\\python.csv', 'D:\\PROJECT\\dataset_select\\y\\java.csv', 'D:\\PROJECT\\dataset_select\\y\\c.csv'])"
   ]
  },
  {
   "cell_type": "code",
   "execution_count": 7,
   "id": "ec6eeb54",
   "metadata": {},
   "outputs": [],
   "source": [
    "indices.sort()"
   ]
  },
  {
   "cell_type": "code",
   "execution_count": 14,
   "id": "051b1744",
   "metadata": {},
   "outputs": [],
   "source": [
    "df = pd.read_csv('D:\\PROJECT\\dataset_select\\clean_answers.csv', chunksize=100000)\n",
    "\n",
    "for chunk in df:\n",
    "    chunk = chunk.where(chunk['id'].isin(indices)).dropna()\n",
    "    chunk.to_csv('D:\\PROJECT\\dataset_select\\clean_reduced.csv', mode='a')"
   ]
  },
  {
   "cell_type": "code",
   "execution_count": 29,
   "id": "1ed295f0",
   "metadata": {},
   "outputs": [],
   "source": [
    "answers = pd.read_csv('D:\\PROJECT\\dataset_select\\clean_reduced.csv', engine='python', encoding='utf-8', dtype={'id':'str', 'body': 'str'})"
   ]
  },
  {
   "cell_type": "code",
   "execution_count": 42,
   "id": "f8cb145e",
   "metadata": {},
   "outputs": [],
   "source": [
    "answers.drop(answers.columns[answers.columns.str.contains('unnamed',case = False)],axis = 1, inplace = True)"
   ]
  },
  {
   "cell_type": "code",
   "execution_count": 43,
   "id": "39b5bd27",
   "metadata": {},
   "outputs": [],
   "source": [
    "answers['id'] = answers['id'].map(lambda x : x.strip('.0'))"
   ]
  },
  {
   "cell_type": "code",
   "execution_count": 40,
   "id": "60f18ef5",
   "metadata": {},
   "outputs": [],
   "source": [
    "answers = answers.convert_dtypes() "
   ]
  },
  {
   "cell_type": "code",
   "execution_count": 50,
   "id": "1775ab4a",
   "metadata": {},
   "outputs": [],
   "source": [
    "answers['id'] = answers['id'].astype(str)"
   ]
  },
  {
   "cell_type": "markdown",
   "id": "59a706a7",
   "metadata": {},
   "source": [
    "## Merge posts and answers"
   ]
  },
  {
   "cell_type": "code",
   "execution_count": 62,
   "id": "decda601",
   "metadata": {},
   "outputs": [],
   "source": [
    "python = pairs(answers, 'D:\\PROJECT\\dataset_select\\y\\python.csv')"
   ]
  },
  {
   "cell_type": "code",
   "execution_count": 64,
   "id": "2d332d55",
   "metadata": {},
   "outputs": [],
   "source": [
    "c = pairs(answers, 'D:\\PROJECT\\dataset_select\\y\\c.csv')"
   ]
  },
  {
   "cell_type": "code",
   "execution_count": 65,
   "id": "6e0a8db2",
   "metadata": {},
   "outputs": [],
   "source": [
    "java = pairs(answers, 'D:\\PROJECT\\dataset_select\\y\\java.csv')"
   ]
  }
 ],
 "metadata": {
  "kernelspec": {
   "display_name": "Python 3",
   "language": "python",
   "name": "python3"
  },
  "language_info": {
   "codemirror_mode": {
    "name": "ipython",
    "version": 3
   },
   "file_extension": ".py",
   "mimetype": "text/x-python",
   "name": "python",
   "nbconvert_exporter": "python",
   "pygments_lexer": "ipython3",
   "version": "3.8.2"
  }
 },
 "nbformat": 4,
 "nbformat_minor": 5
}
