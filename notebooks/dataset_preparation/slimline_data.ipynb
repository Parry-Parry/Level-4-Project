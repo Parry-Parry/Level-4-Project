{
 "cells": [
  {
   "cell_type": "code",
   "execution_count": 10,
   "metadata": {},
   "outputs": [],
   "source": [
    "import pandas as pd\n",
    "import os"
   ]
  },
  {
   "cell_type": "code",
   "execution_count": 11,
   "metadata": {},
   "outputs": [],
   "source": [
    "python_path = \"D:\\\\PROJECT\\\\data\\\\CodeSearchNet\\\\python\"\n",
    "aug_path = \"D:\\\\PROJECT\\\\data\\\\CodeSearchNet\\\\aug_python\"\n",
    "out_python = \"D:\\\\PROJECT\\\\data\\\\CodeSearchNet\\\\py_clean\"\n",
    "out_aug = \"D:\\\\PROJECT\\\\data\\\\CodeSearchNet\\\\aug_clean\"\n",
    "\n",
    "filenames = [\"train\", \"test\", \"valid\"]"
   ]
  },
  {
   "cell_type": "code",
   "execution_count": 12,
   "metadata": {},
   "outputs": [],
   "source": [
    "def clean(path, out):\n",
    "    for file in filenames:\n",
    "        frame = pd.read_json(os.path.join(path, file + \".jsonl\"), lines=True)\n",
    "        frame = frame[[\"code\", \"docstring\"]]\n",
    "        frame.to_json(os.path.join(out, file + \".jsonl\"), orient=\"records\", lines=True)"
   ]
  },
  {
   "cell_type": "code",
   "execution_count": 13,
   "metadata": {},
   "outputs": [],
   "source": [
    "clean(python_path, out_python)\n",
    "clean(aug_path, out_aug)"
   ]
  }
 ],
 "metadata": {
  "interpreter": {
   "hash": "043b8ec81c094910c2b30aa6da4b87ee4064e49c6c2745b34a15c1b8c91b4ed0"
  },
  "kernelspec": {
   "display_name": "Python 3.9.7 ('build')",
   "language": "python",
   "name": "python3"
  },
  "language_info": {
   "codemirror_mode": {
    "name": "ipython",
    "version": 3
   },
   "file_extension": ".py",
   "mimetype": "text/x-python",
   "name": "python",
   "nbconvert_exporter": "python",
   "pygments_lexer": "ipython3",
   "version": "3.9.7"
  },
  "orig_nbformat": 4
 },
 "nbformat": 4,
 "nbformat_minor": 2
}
