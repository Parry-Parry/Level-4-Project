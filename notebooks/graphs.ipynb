{
 "cells": [
  {
   "cell_type": "code",
   "execution_count": 133,
   "metadata": {},
   "outputs": [],
   "source": [
    "import torch\n",
    "import datasets \n",
    "import pickle \n",
    "\n",
    "import seaborn as sns\n",
    "import matplotlib.pyplot as plt\n",
    "\n",
    "import pandas as pd\n",
    "import numpy as np\n",
    "import scipy as sp\n",
    "import researchpy as rp"
   ]
  },
  {
   "cell_type": "markdown",
   "metadata": {},
   "source": [
    "## Data Load"
   ]
  },
  {
   "cell_type": "code",
   "execution_count": 3,
   "metadata": {},
   "outputs": [],
   "source": [
    "original_paths = {'med' : \"D:\\\\PROJECT\\\\out\\\\original\\\\medium\\per_res.pkl\", 'small' : \"D:\\\\PROJECT\\\\out\\\\original\\\\small\\per_res.pkl\"}\n",
    "aug_paths = {'med' : \"D:\\\\PROJECT\\\\out\\\\aug\\\\medium\\per_sentence_res.pkl\", 'small' : \"D:\\\\PROJECT\\\\out\\\\aug\\\\small\\per_sentence_res.pkl\"}\n",
    "\n",
    "original_set = {k : pickle.load(open(v, 'rb')).to_pandas() for k, v in original_paths.items()}\n",
    "aug_set = {k : pickle.load(open(v, 'rb')).to_pandas() for k, v in aug_paths.items()}"
   ]
  },
  {
   "cell_type": "code",
   "execution_count": 6,
   "metadata": {},
   "outputs": [
    {
     "data": {
      "text/html": [
       "<div>\n",
       "<style scoped>\n",
       "    .dataframe tbody tr th:only-of-type {\n",
       "        vertical-align: middle;\n",
       "    }\n",
       "\n",
       "    .dataframe tbody tr th {\n",
       "        vertical-align: top;\n",
       "    }\n",
       "\n",
       "    .dataframe thead th {\n",
       "        text-align: right;\n",
       "    }\n",
       "</style>\n",
       "<table border=\"1\" class=\"dataframe\">\n",
       "  <thead>\n",
       "    <tr style=\"text-align: right;\">\n",
       "      <th></th>\n",
       "      <th>code</th>\n",
       "      <th>docstring</th>\n",
       "      <th>pred_string</th>\n",
       "      <th>rouge2_precision</th>\n",
       "      <th>rouge2_recall</th>\n",
       "      <th>rouge2_fmeasure</th>\n",
       "      <th>bleu_score</th>\n",
       "      <th>meteor_score</th>\n",
       "    </tr>\n",
       "  </thead>\n",
       "  <tbody>\n",
       "    <tr>\n",
       "      <th>0</th>\n",
       "      <td>def sina_xml_to_url_list(xml_data):\\n    \"\"\"st...</td>\n",
       "      <td>str-&gt;list\\n    Convert XML to URL List.\\n    F...</td>\n",
       "      <td>[str-&gt;list\\n    Convert XML to URL List.\\n    ...</td>\n",
       "      <td>1.0</td>\n",
       "      <td>0.8750</td>\n",
       "      <td>0.9333</td>\n",
       "      <td>81.873075</td>\n",
       "      <td>0.836017</td>\n",
       "    </tr>\n",
       "    <tr>\n",
       "      <th>1</th>\n",
       "      <td>def dailymotion_download(url, output_dir='.', ...</td>\n",
       "      <td>Downloads Dailymotion videos by URL.</td>\n",
       "      <td>[Downloads Dailymotion videos by URL.]</td>\n",
       "      <td>1.0</td>\n",
       "      <td>1.0000</td>\n",
       "      <td>1.0000</td>\n",
       "      <td>100.000000</td>\n",
       "      <td>0.997685</td>\n",
       "    </tr>\n",
       "    <tr>\n",
       "      <th>2</th>\n",
       "      <td>def sina_download(url, output_dir='.', merge=T...</td>\n",
       "      <td>Downloads Sina videos by URL.</td>\n",
       "      <td>[Downloads Sina videos by URL.]</td>\n",
       "      <td>1.0</td>\n",
       "      <td>1.0000</td>\n",
       "      <td>1.0000</td>\n",
       "      <td>100.000000</td>\n",
       "      <td>0.997685</td>\n",
       "    </tr>\n",
       "    <tr>\n",
       "      <th>3</th>\n",
       "      <td>def sprint(text, *colors):\\n    \"\"\"Format text...</td>\n",
       "      <td>Format text with color or other effects into A...</td>\n",
       "      <td>[Format text with color or other effects into ...</td>\n",
       "      <td>1.0</td>\n",
       "      <td>1.0000</td>\n",
       "      <td>1.0000</td>\n",
       "      <td>100.000000</td>\n",
       "      <td>0.999711</td>\n",
       "    </tr>\n",
       "    <tr>\n",
       "      <th>4</th>\n",
       "      <td>def print_log(text, *colors):\\n    \"\"\"Print a ...</td>\n",
       "      <td>Print a log message to standard error.</td>\n",
       "      <td>[Print a log message to standard error.]</td>\n",
       "      <td>1.0</td>\n",
       "      <td>1.0000</td>\n",
       "      <td>1.0000</td>\n",
       "      <td>100.000000</td>\n",
       "      <td>0.999023</td>\n",
       "    </tr>\n",
       "    <tr>\n",
       "      <th>...</th>\n",
       "      <td>...</td>\n",
       "      <td>...</td>\n",
       "      <td>...</td>\n",
       "      <td>...</td>\n",
       "      <td>...</td>\n",
       "      <td>...</td>\n",
       "      <td>...</td>\n",
       "      <td>...</td>\n",
       "    </tr>\n",
       "    <tr>\n",
       "      <th>14913</th>\n",
       "      <td>def from_grayscale(im, channels_on=(True, True...</td>\n",
       "      <td>Return a canvas from a grayscale image.\\n\\n   ...</td>\n",
       "      <td>[Return a canvas from a grayscale image.\\n\\n  ...</td>\n",
       "      <td>1.0</td>\n",
       "      <td>0.2500</td>\n",
       "      <td>0.4000</td>\n",
       "      <td>2.075434</td>\n",
       "      <td>0.255379</td>\n",
       "    </tr>\n",
       "    <tr>\n",
       "      <th>14914</th>\n",
       "      <td>def get_uuid(length=32, version=1):\\n    \"\"\"\\n...</td>\n",
       "      <td>Returns a unique ID of a given length.\\n    Us...</td>\n",
       "      <td>[Returns a unique ID of a given length.\\n    U...</td>\n",
       "      <td>1.0</td>\n",
       "      <td>0.7143</td>\n",
       "      <td>0.8333</td>\n",
       "      <td>69.967254</td>\n",
       "      <td>0.700968</td>\n",
       "    </tr>\n",
       "    <tr>\n",
       "      <th>14915</th>\n",
       "      <td>def get_unique_key_from_get(get_dict):\\n    \"\"...</td>\n",
       "      <td>Build a unique key from get data</td>\n",
       "      <td>[Build a unique key from get data]</td>\n",
       "      <td>1.0</td>\n",
       "      <td>1.0000</td>\n",
       "      <td>1.0000</td>\n",
       "      <td>100.000000</td>\n",
       "      <td>0.998542</td>\n",
       "    </tr>\n",
       "    <tr>\n",
       "      <th>14916</th>\n",
       "      <td>def get_domain(url):\\n    \"\"\" Returns domain n...</td>\n",
       "      <td>Returns domain name portion of a URL</td>\n",
       "      <td>[Returns domain name portion of a URL]</td>\n",
       "      <td>1.0</td>\n",
       "      <td>1.0000</td>\n",
       "      <td>1.0000</td>\n",
       "      <td>100.000000</td>\n",
       "      <td>0.998542</td>\n",
       "    </tr>\n",
       "    <tr>\n",
       "      <th>14917</th>\n",
       "      <td>def get_url_args(url):\\n    \"\"\" Returns a dict...</td>\n",
       "      <td>Returns a dictionary from a URL params</td>\n",
       "      <td>[Returns a dictionary from a URL params]</td>\n",
       "      <td>1.0</td>\n",
       "      <td>1.0000</td>\n",
       "      <td>1.0000</td>\n",
       "      <td>100.000000</td>\n",
       "      <td>0.998542</td>\n",
       "    </tr>\n",
       "  </tbody>\n",
       "</table>\n",
       "<p>14918 rows × 8 columns</p>\n",
       "</div>"
      ],
      "text/plain": [
       "                                                    code  \\\n",
       "0      def sina_xml_to_url_list(xml_data):\\n    \"\"\"st...   \n",
       "1      def dailymotion_download(url, output_dir='.', ...   \n",
       "2      def sina_download(url, output_dir='.', merge=T...   \n",
       "3      def sprint(text, *colors):\\n    \"\"\"Format text...   \n",
       "4      def print_log(text, *colors):\\n    \"\"\"Print a ...   \n",
       "...                                                  ...   \n",
       "14913  def from_grayscale(im, channels_on=(True, True...   \n",
       "14914  def get_uuid(length=32, version=1):\\n    \"\"\"\\n...   \n",
       "14915  def get_unique_key_from_get(get_dict):\\n    \"\"...   \n",
       "14916  def get_domain(url):\\n    \"\"\" Returns domain n...   \n",
       "14917  def get_url_args(url):\\n    \"\"\" Returns a dict...   \n",
       "\n",
       "                                               docstring  \\\n",
       "0      str->list\\n    Convert XML to URL List.\\n    F...   \n",
       "1                   Downloads Dailymotion videos by URL.   \n",
       "2                          Downloads Sina videos by URL.   \n",
       "3      Format text with color or other effects into A...   \n",
       "4                 Print a log message to standard error.   \n",
       "...                                                  ...   \n",
       "14913  Return a canvas from a grayscale image.\\n\\n   ...   \n",
       "14914  Returns a unique ID of a given length.\\n    Us...   \n",
       "14915                   Build a unique key from get data   \n",
       "14916               Returns domain name portion of a URL   \n",
       "14917             Returns a dictionary from a URL params   \n",
       "\n",
       "                                             pred_string  rouge2_precision  \\\n",
       "0      [str->list\\n    Convert XML to URL List.\\n    ...               1.0   \n",
       "1                 [Downloads Dailymotion videos by URL.]               1.0   \n",
       "2                        [Downloads Sina videos by URL.]               1.0   \n",
       "3      [Format text with color or other effects into ...               1.0   \n",
       "4               [Print a log message to standard error.]               1.0   \n",
       "...                                                  ...               ...   \n",
       "14913  [Return a canvas from a grayscale image.\\n\\n  ...               1.0   \n",
       "14914  [Returns a unique ID of a given length.\\n    U...               1.0   \n",
       "14915                 [Build a unique key from get data]               1.0   \n",
       "14916             [Returns domain name portion of a URL]               1.0   \n",
       "14917           [Returns a dictionary from a URL params]               1.0   \n",
       "\n",
       "       rouge2_recall  rouge2_fmeasure  bleu_score  meteor_score  \n",
       "0             0.8750           0.9333   81.873075      0.836017  \n",
       "1             1.0000           1.0000  100.000000      0.997685  \n",
       "2             1.0000           1.0000  100.000000      0.997685  \n",
       "3             1.0000           1.0000  100.000000      0.999711  \n",
       "4             1.0000           1.0000  100.000000      0.999023  \n",
       "...              ...              ...         ...           ...  \n",
       "14913         0.2500           0.4000    2.075434      0.255379  \n",
       "14914         0.7143           0.8333   69.967254      0.700968  \n",
       "14915         1.0000           1.0000  100.000000      0.998542  \n",
       "14916         1.0000           1.0000  100.000000      0.998542  \n",
       "14917         1.0000           1.0000  100.000000      0.998542  \n",
       "\n",
       "[14918 rows x 8 columns]"
      ]
     },
     "execution_count": 6,
     "metadata": {},
     "output_type": "execute_result"
    }
   ],
   "source": [
    "original_set['med']"
   ]
  },
  {
   "cell_type": "markdown",
   "metadata": {},
   "source": [
    "## T-Test"
   ]
  },
  {
   "cell_type": "code",
   "execution_count": 122,
   "metadata": {},
   "outputs": [],
   "source": [
    "metric_cols = [\"rouge2_precision\", \"rouge2_recall\", \"rouge2_fmeasure\", \"bleu_score\", \"meteor_score\"]\n",
    "filter_cols = [\"bleu_score\", \"meteor_score\"]"
   ]
  },
  {
   "cell_type": "code",
   "execution_count": 131,
   "metadata": {},
   "outputs": [],
   "source": [
    "small_var = {}\n",
    "med_var = {}\n",
    "\n",
    "for col in metric_cols:\n",
    "    small_var[col] = [sp.stats.variation(original_set['small'][col]), sp.stats.variation(aug_set['small'][col])]\n",
    "    med_var[col] = [sp.stats.variation(original_set['med'][col]), sp.stats.variation(aug_set['med'][col])]"
   ]
  },
  {
   "cell_type": "code",
   "execution_count": 134,
   "metadata": {},
   "outputs": [
    {
     "name": "stderr",
     "output_type": "stream",
     "text": [
      "D:\\CONDA\\envs\\build\\lib\\site-packages\\researchpy\\ttest.py:18: FutureWarning: The series.append method is deprecated and will be removed from pandas in a future version. Use pandas.concat instead.\n",
      "  groups = group1.append(group2, ignore_index= True)\n",
      "D:\\CONDA\\envs\\build\\lib\\site-packages\\researchpy\\ttest.py:18: FutureWarning: The series.append method is deprecated and will be removed from pandas in a future version. Use pandas.concat instead.\n",
      "  groups = group1.append(group2, ignore_index= True)\n",
      "D:\\CONDA\\envs\\build\\lib\\site-packages\\researchpy\\ttest.py:18: FutureWarning: The series.append method is deprecated and will be removed from pandas in a future version. Use pandas.concat instead.\n",
      "  groups = group1.append(group2, ignore_index= True)\n",
      "D:\\CONDA\\envs\\build\\lib\\site-packages\\researchpy\\ttest.py:18: FutureWarning: The series.append method is deprecated and will be removed from pandas in a future version. Use pandas.concat instead.\n",
      "  groups = group1.append(group2, ignore_index= True)\n",
      "D:\\CONDA\\envs\\build\\lib\\site-packages\\researchpy\\ttest.py:18: FutureWarning: The series.append method is deprecated and will be removed from pandas in a future version. Use pandas.concat instead.\n",
      "  groups = group1.append(group2, ignore_index= True)\n",
      "D:\\CONDA\\envs\\build\\lib\\site-packages\\researchpy\\ttest.py:18: FutureWarning: The series.append method is deprecated and will be removed from pandas in a future version. Use pandas.concat instead.\n",
      "  groups = group1.append(group2, ignore_index= True)\n",
      "D:\\CONDA\\envs\\build\\lib\\site-packages\\researchpy\\ttest.py:18: FutureWarning: The series.append method is deprecated and will be removed from pandas in a future version. Use pandas.concat instead.\n",
      "  groups = group1.append(group2, ignore_index= True)\n",
      "D:\\CONDA\\envs\\build\\lib\\site-packages\\researchpy\\ttest.py:18: FutureWarning: The series.append method is deprecated and will be removed from pandas in a future version. Use pandas.concat instead.\n",
      "  groups = group1.append(group2, ignore_index= True)\n",
      "D:\\CONDA\\envs\\build\\lib\\site-packages\\researchpy\\ttest.py:18: FutureWarning: The series.append method is deprecated and will be removed from pandas in a future version. Use pandas.concat instead.\n",
      "  groups = group1.append(group2, ignore_index= True)\n",
      "D:\\CONDA\\envs\\build\\lib\\site-packages\\researchpy\\ttest.py:18: FutureWarning: The series.append method is deprecated and will be removed from pandas in a future version. Use pandas.concat instead.\n",
      "  groups = group1.append(group2, ignore_index= True)\n"
     ]
    }
   ],
   "source": [
    "small_t = {}\n",
    "med_t = {}\n",
    "\n",
    "for col in metric_cols:\n",
    "    med_t[col] = rp.ttest(group1= original_set['med'][col], group1_name= \"No Augment\",\n",
    "        group2= aug_set['med'][col], group2_name= \"Augmented\")\n",
    "    small_t[col] = rp.ttest(group1= original_set['small'][col], group1_name= \"No Augment\",\n",
    "        group2= aug_set['small'][col], group2_name= \"Augmented\")"
   ]
  },
  {
   "cell_type": "code",
   "execution_count": 136,
   "metadata": {},
   "outputs": [
    {
     "data": {
      "text/plain": [
       "{'rouge2_precision': (     Variable        N      Mean        SD        SE  95% Conf.  Interval\n",
       "  0  No Augment  14918.0  0.994896  0.041508  0.000340   0.994230  0.995562\n",
       "  1   Augmented  14918.0  0.938578  0.169779  0.001390   0.935854  0.941303\n",
       "  2    combined  29836.0  0.966737  0.126753  0.000734   0.965299  0.968175,\n",
       "                         Independent t-test     results\n",
       "  0  Difference (No Augment - Augmented) =       0.0563\n",
       "  1                   Degrees of freedom =   29834.0000\n",
       "  2                                    t =      39.3557\n",
       "  3                Two side test p value =       0.0000\n",
       "  4               Difference < 0 p value =       1.0000\n",
       "  5               Difference > 0 p value =       0.0000\n",
       "  6                            Cohen's d =       0.4557\n",
       "  7                            Hedge's g =       0.4557\n",
       "  8                        Glass's delta =       1.3568\n",
       "  9                          Pearson's r =       0.2222),\n",
       " 'rouge2_recall': (     Variable        N      Mean        SD        SE  95% Conf.  Interval\n",
       "  0  No Augment  14918.0  0.573838  0.385105  0.003153   0.567657  0.580018\n",
       "  1   Augmented  14918.0  0.573584  0.384985  0.003152   0.567406  0.579762\n",
       "  2    combined  29836.0  0.573711  0.385039  0.002229   0.569342  0.578080,\n",
       "                         Independent t-test     results\n",
       "  0  Difference (No Augment - Augmented) =       0.0003\n",
       "  1                   Degrees of freedom =   29834.0000\n",
       "  2                                    t =       0.0569\n",
       "  3                Two side test p value =       0.9546\n",
       "  4               Difference < 0 p value =       0.5227\n",
       "  5               Difference > 0 p value =       0.4773\n",
       "  6                            Cohen's d =       0.0007\n",
       "  7                            Hedge's g =       0.0007\n",
       "  8                        Glass's delta =       0.0007\n",
       "  9                          Pearson's r =       0.0003),\n",
       " 'rouge2_fmeasure': (     Variable        N      Mean        SD        SE  95% Conf.  Interval\n",
       "  0  No Augment  14918.0  0.646138  0.341312  0.002794   0.640661  0.651616\n",
       "  1   Augmented  14918.0  0.607002  0.320990  0.002628   0.601850  0.612153\n",
       "  2    combined  29836.0  0.626570  0.331879  0.001921   0.622804  0.630336,\n",
       "                         Independent t-test     results\n",
       "  0  Difference (No Augment - Augmented) =       0.0391\n",
       "  1                   Degrees of freedom =   29834.0000\n",
       "  2                                    t =      10.2022\n",
       "  3                Two side test p value =       0.0000\n",
       "  4               Difference < 0 p value =       1.0000\n",
       "  5               Difference > 0 p value =       0.0000\n",
       "  6                            Cohen's d =       0.1181\n",
       "  7                            Hedge's g =       0.1181\n",
       "  8                        Glass's delta =       0.1147\n",
       "  9                          Pearson's r =       0.0590),\n",
       " 'bleu_score': (     Variable        N       Mean         SD        SE  95% Conf.   Interval\n",
       "  0  No Augment  14918.0  47.179375  45.084588  0.369124  46.455846  47.902904\n",
       "  1   Augmented  14918.0  41.384894  41.434068  0.339236  40.719949  42.049839\n",
       "  2    combined  29836.0  44.282135  43.393922  0.251223  43.789727  44.774542,\n",
       "                         Independent t-test     results\n",
       "  0  Difference (No Augment - Augmented) =       5.7945\n",
       "  1                   Degrees of freedom =   29834.0000\n",
       "  2                                    t =      11.5582\n",
       "  3                Two side test p value =       0.0000\n",
       "  4               Difference < 0 p value =       1.0000\n",
       "  5               Difference > 0 p value =       0.0000\n",
       "  6                            Cohen's d =       0.1338\n",
       "  7                            Hedge's g =       0.1338\n",
       "  8                        Glass's delta =       0.1285\n",
       "  9                          Pearson's r =       0.0668),\n",
       " 'meteor_score': (     Variable        N      Mean        SD        SE  95% Conf.  Interval\n",
       "  0  No Augment  14918.0  0.560489  0.394082  0.003226   0.554165  0.566814\n",
       "  1   Augmented  14918.0  0.543067  0.379195  0.003105   0.536982  0.549152\n",
       "  2    combined  29836.0  0.551778  0.386802  0.002239   0.547389  0.556167,\n",
       "                         Independent t-test     results\n",
       "  0  Difference (No Augment - Augmented) =       0.0174\n",
       "  1                   Degrees of freedom =   29834.0000\n",
       "  2                                    t =       3.8910\n",
       "  3                Two side test p value =       0.0001\n",
       "  4               Difference < 0 p value =       0.9999\n",
       "  5               Difference > 0 p value =       0.0001\n",
       "  6                            Cohen's d =       0.0451\n",
       "  7                            Hedge's g =       0.0451\n",
       "  8                        Glass's delta =       0.0442\n",
       "  9                          Pearson's r =       0.0225)}"
      ]
     },
     "execution_count": 136,
     "metadata": {},
     "output_type": "execute_result"
    }
   ],
   "source": [
    "med_t"
   ]
  },
  {
   "cell_type": "code",
   "execution_count": 137,
   "metadata": {},
   "outputs": [
    {
     "data": {
      "text/plain": [
       "{'rouge2_precision': (     Variable        N      Mean        SD        SE  95% Conf.  Interval\n",
       "  0  No Augment  14918.0  0.989982  0.059853  0.000490   0.989022  0.990943\n",
       "  1   Augmented  14918.0  0.933436  0.176074  0.001442   0.930610  0.936261\n",
       "  2    combined  29836.0  0.961709  0.134503  0.000779   0.960183  0.963235,\n",
       "                         Independent t-test     results\n",
       "  0  Difference (No Augment - Augmented) =       0.0565\n",
       "  1                   Degrees of freedom =   29834.0000\n",
       "  2                                    t =      37.1384\n",
       "  3                Two side test p value =       0.0000\n",
       "  4               Difference < 0 p value =       1.0000\n",
       "  5               Difference > 0 p value =       0.0000\n",
       "  6                            Cohen's d =       0.4300\n",
       "  7                            Hedge's g =       0.4300\n",
       "  8                        Glass's delta =       0.9448\n",
       "  9                          Pearson's r =       0.2102),\n",
       " 'rouge2_recall': (     Variable        N      Mean        SD        SE  95% Conf.  Interval\n",
       "  0  No Augment  14918.0  0.570980  0.384568  0.003149   0.564808  0.577151\n",
       "  1   Augmented  14918.0  0.570764  0.384524  0.003148   0.564593  0.576935\n",
       "  2    combined  29836.0  0.570872  0.384540  0.002226   0.566508  0.575235,\n",
       "                         Independent t-test     results\n",
       "  0  Difference (No Augment - Augmented) =       0.0002\n",
       "  1                   Degrees of freedom =   29834.0000\n",
       "  2                                    t =       0.0484\n",
       "  3                Two side test p value =       0.9614\n",
       "  4               Difference < 0 p value =       0.5193\n",
       "  5               Difference > 0 p value =       0.4807\n",
       "  6                            Cohen's d =       0.0006\n",
       "  7                            Hedge's g =       0.0006\n",
       "  8                        Glass's delta =       0.0006\n",
       "  9                          Pearson's r =       0.0003),\n",
       " 'rouge2_fmeasure': (     Variable        N      Mean        SD        SE  95% Conf.  Interval\n",
       "  0  No Augment  14918.0  0.643003  0.341318  0.002794   0.637525  0.648481\n",
       "  1   Augmented  14918.0  0.603471  0.321383  0.002631   0.598314  0.608629\n",
       "  2    combined  29836.0  0.623237  0.332084  0.001923   0.619469  0.627005,\n",
       "                         Independent t-test     results\n",
       "  0  Difference (No Augment - Augmented) =       0.0395\n",
       "  1                   Degrees of freedom =   29834.0000\n",
       "  2                                    t =      10.2992\n",
       "  3                Two side test p value =       0.0000\n",
       "  4               Difference < 0 p value =       1.0000\n",
       "  5               Difference > 0 p value =       0.0000\n",
       "  6                            Cohen's d =       0.1193\n",
       "  7                            Hedge's g =       0.1192\n",
       "  8                        Glass's delta =       0.1158\n",
       "  9                          Pearson's r =       0.0595),\n",
       " 'bleu_score': (     Variable        N       Mean         SD        SE  95% Conf.   Interval\n",
       "  0  No Augment  14918.0  46.889531  44.952914  0.368046  46.168114  47.610947\n",
       "  1   Augmented  14918.0  41.179599  41.377684  0.338775  40.515559  41.843639\n",
       "  2    combined  29836.0  44.034565  43.295810  0.250655  43.543271  44.525859,\n",
       "                         Independent t-test     results\n",
       "  0  Difference (No Augment - Augmented) =       5.7099\n",
       "  1                   Degrees of freedom =   29834.0000\n",
       "  2                                    t =      11.4147\n",
       "  3                Two side test p value =       0.0000\n",
       "  4               Difference < 0 p value =       1.0000\n",
       "  5               Difference > 0 p value =       0.0000\n",
       "  6                            Cohen's d =       0.1322\n",
       "  7                            Hedge's g =       0.1322\n",
       "  8                        Glass's delta =       0.1270\n",
       "  9                          Pearson's r =       0.0659),\n",
       " 'meteor_score': (     Variable        N      Mean        SD        SE  95% Conf.  Interval\n",
       "  0  No Augment  14918.0  0.558679  0.393453  0.003221   0.552365  0.564993\n",
       "  1   Augmented  14918.0  0.541509  0.378920  0.003102   0.535428  0.547590\n",
       "  2    combined  29836.0  0.550094  0.386344  0.002237   0.545710  0.554478,\n",
       "                         Independent t-test     results\n",
       "  0  Difference (No Augment - Augmented) =       0.0172\n",
       "  1                   Degrees of freedom =   29834.0000\n",
       "  2                                    t =       3.8392\n",
       "  3                Two side test p value =       0.0001\n",
       "  4               Difference < 0 p value =       0.9999\n",
       "  5               Difference > 0 p value =       0.0001\n",
       "  6                            Cohen's d =       0.0445\n",
       "  7                            Hedge's g =       0.0445\n",
       "  8                        Glass's delta =       0.0436\n",
       "  9                          Pearson's r =       0.0222)}"
      ]
     },
     "execution_count": 137,
     "metadata": {},
     "output_type": "execute_result"
    }
   ],
   "source": [
    "small_t"
   ]
  },
  {
   "cell_type": "code",
   "execution_count": 128,
   "metadata": {},
   "outputs": [],
   "source": [
    "small_t = {}\n",
    "med_t = {}\n",
    "\n",
    "for col in metric_cols:\n",
    "    med_t[col] = sp.stats.ttest_ind(original_set['med'][col], aug_set['med'][col])\n",
    "    small_t[col] = sp.stats.ttest_ind(original_set['small'][col], aug_set['small'][col])"
   ]
  },
  {
   "cell_type": "code",
   "execution_count": 129,
   "metadata": {},
   "outputs": [
    {
     "data": {
      "text/plain": [
       "{'rouge2_precision': Ttest_indResult(statistic=37.13840483612598, pvalue=3.5958992029279794e-295),\n",
       " 'rouge2_recall': Ttest_indResult(statistic=0.04839586481357865, pvalue=0.9614010787992787),\n",
       " 'rouge2_fmeasure': Ttest_indResult(statistic=10.29915980158103, pvalue=7.8227780277243185e-25),\n",
       " 'bleu_score': Ttest_indResult(statistic=11.414696594404464, pvalue=4.0783679039634845e-30),\n",
       " 'meteor_score': Ttest_indResult(statistic=3.839175517135955, pvalue=0.0001237029068382733)}"
      ]
     },
     "execution_count": 129,
     "metadata": {},
     "output_type": "execute_result"
    }
   ],
   "source": [
    "small_t"
   ]
  },
  {
   "cell_type": "code",
   "execution_count": 130,
   "metadata": {},
   "outputs": [
    {
     "data": {
      "text/plain": [
       "{'rouge2_precision': Ttest_indResult(statistic=39.355697635678446, pvalue=0.0),\n",
       " 'rouge2_recall': Ttest_indResult(statistic=0.05692593407985247, pvalue=0.9546045766201486),\n",
       " 'rouge2_fmeasure': Ttest_indResult(statistic=10.202181255405415, pvalue=2.126157291906879e-24),\n",
       " 'bleu_score': Ttest_indResult(statistic=11.558162794770753, pvalue=7.809733173221546e-31),\n",
       " 'meteor_score': Ttest_indResult(statistic=3.8909762418594815, pvalue=0.00010005843368274822)}"
      ]
     },
     "execution_count": 130,
     "metadata": {},
     "output_type": "execute_result"
    }
   ],
   "source": [
    "med_t"
   ]
  },
  {
   "cell_type": "markdown",
   "metadata": {},
   "source": [
    "## Generate Deltas"
   ]
  },
  {
   "cell_type": "code",
   "execution_count": 111,
   "metadata": {},
   "outputs": [],
   "source": [
    "med_deltas = pd.DataFrame()\n",
    "small_deltas = pd.DataFrame()"
   ]
  },
  {
   "cell_type": "code",
   "execution_count": 113,
   "metadata": {},
   "outputs": [],
   "source": [
    "for col in filter_cols:\n",
    "    med_deltas[col] = aug_set['med'][col] - original_set['med'][col]\n",
    "    small_deltas[col] = aug_set['small'][col] - original_set['small'][col]"
   ]
  },
  {
   "cell_type": "code",
   "execution_count": 114,
   "metadata": {},
   "outputs": [],
   "source": [
    "med_deltas['bleu_score'] = med_deltas['bleu_score'] / 100\n",
    "small_deltas['bleu_score'] = small_deltas['bleu_score'] / 100"
   ]
  },
  {
   "cell_type": "markdown",
   "metadata": {},
   "source": [
    "## Flatten Sets\n",
    "\n",
    "Needed for multilayer histogram"
   ]
  },
  {
   "cell_type": "code",
   "execution_count": 102,
   "metadata": {},
   "outputs": [],
   "source": [
    "med_flat = []\n",
    "small_flat = []\n",
    "\n",
    "med_aug_flat = []\n",
    "small_aug_flat = []"
   ]
  },
  {
   "cell_type": "code",
   "execution_count": 104,
   "metadata": {},
   "outputs": [],
   "source": [
    "for col in filter_cols:\n",
    "    small_tmp = pd.DataFrame()\n",
    "    small_aug_tmp = pd.DataFrame()\n",
    "\n",
    "    medium_tmp = pd.DataFrame()\n",
    "    medium_aug_tmp = pd.DataFrame()\n",
    "\n",
    "    small_tmp['score'] = original_set['small'][col] / 100 if col == \"bleu_score\" else original_set['small'][col]\n",
    "    small_tmp['metric'] = col\n",
    "    small_aug_tmp['score'] = aug_set['small'][col] / 100 if col == \"bleu_score\" else aug_set['small'][col]\n",
    "    small_aug_tmp['metric'] = col\n",
    "\n",
    "    medium_tmp['score'] = original_set['med'][col] / 100 if col == \"bleu_score\" else original_set['med'][col]\n",
    "    medium_tmp['metric'] = col\n",
    "    medium_aug_tmp['score'] = aug_set['med'][col] / 100 if col == \"bleu_score\" else aug_set['med'][col]\n",
    "    medium_aug_tmp['metric'] = col\n",
    "\n",
    "    med_flat.append(medium_tmp)\n",
    "    small_flat.append(small_tmp)\n",
    "\n",
    "    med_aug_flat.append(medium_aug_tmp)\n",
    "    small_aug_flat.append(small_aug_tmp)"
   ]
  },
  {
   "cell_type": "code",
   "execution_count": 105,
   "metadata": {},
   "outputs": [],
   "source": [
    "med_flat = pd.concat(med_flat).reset_index()\n",
    "small_flat = pd.concat(small_flat).reset_index()\n",
    "\n",
    "med_aug_flat = pd.concat(med_aug_flat).reset_index()\n",
    "small_aug_flat = pd.concat(small_aug_flat).reset_index()"
   ]
  },
  {
   "cell_type": "markdown",
   "metadata": {},
   "source": [
    "## Distribution Histograms"
   ]
  },
  {
   "cell_type": "code",
   "execution_count": 106,
   "metadata": {},
   "outputs": [
    {
     "data": {
      "text/plain": [
       "[Text(0.5, 1.0, 'CodeBERT No Augment')]"
      ]
     },
     "execution_count": 106,
     "metadata": {},
     "output_type": "execute_result"
    },
    {
     "data": {
      "image/png": "[encoded data removed]",
      "text/plain": [
       "<Figure size 432x288 with 1 Axes>"
      ]
     },
     "metadata": {
      "needs_background": "light"
     },
     "output_type": "display_data"
    }
   ],
   "source": [
    "sns.histplot(med_flat, x='score', hue='metric', bins=10, element=\"step\").set(title='CodeBERT No Augment')"
   ]
  },
  {
   "cell_type": "code",
   "execution_count": 107,
   "metadata": {},
   "outputs": [
    {
     "data": {
      "text/plain": [
       "[Text(0.5, 1.0, 'CodeBERT Augmented')]"
      ]
     },
     "execution_count": 107,
     "metadata": {},
     "output_type": "execute_result"
    },
    {
     "data": {
      "image/png": "[encoded data removed]",
      "text/plain": [
       "<Figure size 432x288 with 1 Axes>"
      ]
     },
     "metadata": {
      "needs_background": "light"
     },
     "output_type": "display_data"
    }
   ],
   "source": [
    "sns.histplot(med_aug_flat, x='score', hue='metric', bins=10, element=\"step\").set(title='CodeBERT Augmented')"
   ]
  },
  {
   "cell_type": "code",
   "execution_count": 108,
   "metadata": {},
   "outputs": [
    {
     "data": {
      "text/plain": [
       "[Text(0.5, 1.0, 'RoBERTa No Augment')]"
      ]
     },
     "execution_count": 108,
     "metadata": {},
     "output_type": "execute_result"
    },
    {
     "data": {
      "image/png": "[encoded data removed]",
      "text/plain": [
       "<Figure size 432x288 with 1 Axes>"
      ]
     },
     "metadata": {
      "needs_background": "light"
     },
     "output_type": "display_data"
    }
   ],
   "source": [
    "sns.histplot(small_flat, x='score', hue='metric', bins=10, element=\"step\").set(title='RoBERTa No Augment')"
   ]
  },
  {
   "cell_type": "code",
   "execution_count": 109,
   "metadata": {},
   "outputs": [
    {
     "data": {
      "text/plain": [
       "[Text(0.5, 1.0, 'RoBERTa Augmented')]"
      ]
     },
     "execution_count": 109,
     "metadata": {},
     "output_type": "execute_result"
    },
    {
     "data": {
      "image/png": "[encoded data removed]",
      "text/plain": [
       "<Figure size 432x288 with 1 Axes>"
      ]
     },
     "metadata": {
      "needs_background": "light"
     },
     "output_type": "display_data"
    }
   ],
   "source": [
    "sns.histplot(small_aug_flat, x='score', hue='metric', bins=10, element=\"step\").set(title='RoBERTa Augmented')"
   ]
  },
  {
   "cell_type": "markdown",
   "metadata": {},
   "source": [
    "## Delta Histograms"
   ]
  },
  {
   "cell_type": "code",
   "execution_count": 145,
   "metadata": {},
   "outputs": [
    {
     "data": {
      "text/plain": [
       "704      3.777635e-08\n",
       "1225     2.317543e-13\n",
       "1227     1.727801e-20\n",
       "1588     3.852118e-01\n",
       "1682     1.040787e-27\n",
       "             ...     \n",
       "12931    1.561970e-01\n",
       "13231    1.150365e-02\n",
       "13292    1.561970e-01\n",
       "13394    1.395080e-01\n",
       "14355    1.774741e-01\n",
       "Name: bleu_score, Length: 67, dtype: float64"
      ]
     },
     "execution_count": 145,
     "metadata": {},
     "output_type": "execute_result"
    }
   ],
   "source": [
    "x = med_deltas['bleu_score']\n",
    "x[x > 0.0]"
   ]
  },
  {
   "cell_type": "code",
   "execution_count": 143,
   "metadata": {},
   "outputs": [
    {
     "data": {
      "text/plain": [
       "[Text(0.5, 1.0, 'Delta Bleu Score on CodeBERT')]"
      ]
     },
     "execution_count": 143,
     "metadata": {},
     "output_type": "execute_result"
    },
    {
     "data": {
      "image/png": "[encoded data removed]",
      "text/plain": [
       "<Figure size 432x288 with 1 Axes>"
      ]
     },
     "metadata": {
      "needs_background": "light"
     },
     "output_type": "display_data"
    }
   ],
   "source": [
    "sns.histplot(med_deltas['bleu_score'], bins=10, element=\"step\").set(title='Delta Bleu Score on CodeBERT')"
   ]
  },
  {
   "cell_type": "code",
   "execution_count": 110,
   "metadata": {},
   "outputs": [
    {
     "data": {
      "text/plain": [
       "[Text(0.5, 1.0, 'Delta Bleu Score on RoBERTa')]"
      ]
     },
     "execution_count": 110,
     "metadata": {},
     "output_type": "execute_result"
    },
    {
     "data": {
      "image/png": "[encoded data removed]",
      "text/plain": [
       "<Figure size 432x288 with 1 Axes>"
      ]
     },
     "metadata": {
      "needs_background": "light"
     },
     "output_type": "display_data"
    }
   ],
   "source": [
    "sns.histplot(small_deltas['bleu_score'], bins=10, element=\"step\").set(title='Delta Bleu Score on RoBERTa')"
   ]
  },
  {
   "cell_type": "code",
   "execution_count": 146,
   "metadata": {},
   "outputs": [
    {
     "data": {
      "text/plain": [
       "[Text(0.5, 1.0, 'Delta METEOR Score on CodeBERT')]"
      ]
     },
     "execution_count": 146,
     "metadata": {},
     "output_type": "execute_result"
    },
    {
     "data": {
      "image/png": "[encoded data removed]",
      "text/plain": [
       "<Figure size 432x288 with 1 Axes>"
      ]
     },
     "metadata": {
      "needs_background": "light"
     },
     "output_type": "display_data"
    }
   ],
   "source": [
    "sns.histplot(med_deltas['meteor_score'], bins=10, element=\"step\").set(title='Delta METEOR Score on CodeBERT')"
   ]
  },
  {
   "cell_type": "code",
   "execution_count": 141,
   "metadata": {},
   "outputs": [
    {
     "data": {
      "text/plain": [
       "[Text(0.5, 1.0, 'Delta METEOR Score on RoBERTa')]"
      ]
     },
     "execution_count": 141,
     "metadata": {},
     "output_type": "execute_result"
    },
    {
     "data": {
      "image/png": "[encoded data removed]",
      "text/plain": [
       "<Figure size 432x288 with 1 Axes>"
      ]
     },
     "metadata": {
      "needs_background": "light"
     },
     "output_type": "display_data"
    }
   ],
   "source": [
    "sns.histplot(small_deltas['meteor_score'], bins=10, element=\"step\").set(title='Delta METEOR Score on RoBERTa')"
   ]
  }
 ],
 "metadata": {
  "interpreter": {
   "hash": "043b8ec81c094910c2b30aa6da4b87ee4064e49c6c2745b34a15c1b8c91b4ed0"
  },
  "kernelspec": {
   "display_name": "Python 3.9.7 ('build')",
   "language": "python",
   "name": "python3"
  },
  "language_info": {
   "codemirror_mode": {
    "name": "ipython",
    "version": 3
   },
   "file_extension": ".py",
   "mimetype": "text/x-python",
   "name": "python",
   "nbconvert_exporter": "python",
   "pygments_lexer": "ipython3",
   "version": "3.9.7"
  },
  "orig_nbformat": 4
 },
 "nbformat": 4,
 "nbformat_minor": 2
}
