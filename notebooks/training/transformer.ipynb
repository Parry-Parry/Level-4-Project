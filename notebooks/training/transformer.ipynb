{
 "cells": [
  {
   "cell_type": "markdown",
   "metadata": {},
   "source": [
    "# Baseline Model Training\n",
    "\n",
    "* RoBERTa Tokenizer\n",
    "* GRU Encoder / Decoder"
   ]
  },
  {
   "cell_type": "markdown",
   "metadata": {},
   "source": [
    "## Imports"
   ]
  },
  {
   "cell_type": "code",
   "execution_count": null,
   "metadata": {},
   "outputs": [],
   "source": [
    "import os\n",
    "import io\n",
    "import sys\n",
    "\n",
    "\n",
    "import pandas as pd \n",
    "import numpy as np \n",
    "\n",
    "import tensorflow as tf\n",
    "\n",
    "from transformers import RobertaTokenizer, TFRobertaModel\n",
    "\n",
    "sys.path.append('D:\\PROJECT\\Level-4-Project')\n",
    "os.environ[\"TF_FORCE_GPU_ALLOW_GROWTH\"]=\"true\""
   ]
  },
  {
   "cell_type": "markdown",
   "metadata": {},
   "source": [
    "## Preprocessing"
   ]
  },
  {
   "cell_type": "code",
   "execution_count": null,
   "metadata": {},
   "outputs": [],
   "source": [
    "train = pd.read_json(\"D:\\PROJECT\\data\\CodeSearchNet\\Combine_clean\\\\train.json\")\n",
    "valid = pd.read_json(\"D:\\PROJECT\\data\\CodeSearchNet\\Combine_clean\\\\valid.json\")\n",
    "test = pd.read_json(\"D:\\PROJECT\\data\\CodeSearchNet\\Combine_clean\\\\test.json\")"
   ]
  },
  {
   "cell_type": "code",
   "execution_count": null,
   "metadata": {},
   "outputs": [],
   "source": [
    "batch_size = 64"
   ]
  },
  {
   "cell_type": "code",
   "execution_count": null,
   "metadata": {},
   "outputs": [],
   "source": [
    "with tf.device('/CPU:0'):\n",
    "    train_set = (\n",
    "        tf.data.Dataset.from_tensor_slices(\n",
    "            (\n",
    "                tf.cast(train[\"code\"].values, tf.string),\n",
    "                tf.cast(train[\"docstring\"].values, tf.string)\n",
    "            )\n",
    "        )\n",
    "    ).shuffle(len(train[\"code\"])).batch(batch_size)\n",
    "    test_set = (\n",
    "        tf.data.Dataset.from_tensor_slices(\n",
    "            (\n",
    "                tf.cast(test[\"code\"].values, tf.string),\n",
    "                tf.cast(test[\"docstring\"].values, tf.string)\n",
    "            )\n",
    "        )\n",
    "    ).shuffle(len(test[\"code\"])).batch(batch_size)\n",
    "    valid_set = (\n",
    "        tf.data.Dataset.from_tensor_slices(\n",
    "            (\n",
    "                tf.cast(valid[\"code\"].values, tf.string),\n",
    "                tf.cast(valid[\"docstring\"].values, tf.string)\n",
    "            )  \n",
    "        )\n",
    "    ).shuffle(len(valid[\"code\"])).batch(batch_size)"
   ]
  },
  {
   "cell_type": "markdown",
   "metadata": {},
   "source": [
    "## Config & Build"
   ]
  },
  {
   "cell_type": "code",
   "execution_count": null,
   "metadata": {},
   "outputs": [],
   "source": [
    "config = {\n",
    "    'output_hidden_states': True,\n",
    "    'is_decoder': False\n",
    "    }"
   ]
  },
  {
   "cell_type": "markdown",
   "metadata": {},
   "source": [
    "## Training"
   ]
  },
  {
   "cell_type": "code",
   "execution_count": null,
   "metadata": {},
   "outputs": [],
   "source": []
  }
 ],
 "metadata": {
  "language_info": {
   "name": "python"
  },
  "orig_nbformat": 4
 },
 "nbformat": 4,
 "nbformat_minor": 2
}
