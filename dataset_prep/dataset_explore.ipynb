{
 "cells": [
  {
   "cell_type": "code",
   "execution_count": 1,
   "id": "fa77d1f3",
   "metadata": {},
   "outputs": [],
   "source": [
    "import dask\n",
    "import dask.bag as db\n",
    "import dask.dataframe as dd\n",
    "from dask.diagnostics import ProgressBar\n",
    "\n",
    "import pandas as pd\n",
    "from pandas import DataFrame as df\n",
    "import re\n",
    "import html\n",
    "from datetime import datetime\n",
    "import numpy as np\n",
    "import pickle\n",
    "\n",
    "import seaborn as sns\n",
    "import matplotlib.pyplot as plt\n",
    "\n",
    "dask.config.set(scheduler='multiprocessing')\n",
    "\n",
    "%matplotlib inline"
   ]
  },
  {
   "cell_type": "markdown",
   "id": "635e6c6d",
   "metadata": {},
   "source": [
    "# Acknowledgements and Docs\n",
    "\n",
    "Various functions taken and modified from https://sigdelta.com/blog/dask-introduction/ for formatting\n",
    "\n",
    "Dataset:\n",
    "* **dataset_raw** : XML Form\n",
    "* **dataset_parquet** : XML to Parquet\n",
    "* **dataset_tags** : Serialized unique tags\n",
    "* **dataset_tag_matrix** : Boolean table for filtering by tag using top 25 tags"
   ]
  },
  {
   "cell_type": "markdown",
   "id": "67fc4662",
   "metadata": {},
   "source": [
    "# Formatting\n",
    "## Initial Read"
   ]
  },
  {
   "cell_type": "code",
   "execution_count": 2,
   "id": "3f93aeda",
   "metadata": {},
   "outputs": [],
   "source": [
    "posts_xml = db.read_text('D:\\PROJECT\\dataset_raw\\posts\\posts.xml', encoding='utf-8', blocksize=1e8)"
   ]
  },
  {
   "cell_type": "code",
   "execution_count": 3,
   "id": "74abade3",
   "metadata": {},
   "outputs": [],
   "source": [
    "posts_rows = posts_xml.filter(lambda line: line.find('<row') >= 0)"
   ]
  },
  {
   "cell_type": "markdown",
   "id": "afd7e2d9",
   "metadata": {},
   "source": [
    "## Helper Functions"
   ]
  },
  {
   "cell_type": "code",
   "execution_count": 4,
   "id": "7493a823",
   "metadata": {},
   "outputs": [],
   "source": [
    "def extract_posts_columns(line):\n",
    "    l = html.unescape(line)\n",
    "    row = {\n",
    "        'id': extract_column_value(l, 'Id', int),\n",
    "        'post_type_id': extract_column_value(l, 'PostTypeId', int),\n",
    "        'accepted_answer_id': extract_column_value(l, 'AcceptedAnswerId', int),\n",
    "        'score': extract_column_value(l, 'Score', int),\n",
    "        'title': extract_column_value(l, 'Title', str),\n",
    "        'tags': extract_column_value(l, 'Tags', str),\n",
    "        'body': extract_column_value(l, 'Body', str)\n",
    "    }\n",
    "    return row\n",
    "\n",
    "\n",
    "def extract_column_value(line, col_name, cast_type=str):\n",
    "    pattern_tpl = r'{col}=\"([^\"]*)\"'\n",
    "    pattern = pattern_tpl.format(col=col_name)\n",
    "    match = re.search(pattern, line)\n",
    "\n",
    "    if cast_type == int:\n",
    "        null_value = 0\n",
    "    else:\n",
    "        null_value = None\n",
    "\n",
    "    return cast_type(match[1]) if match is not None else null_value"
   ]
  },
  {
   "cell_type": "markdown",
   "id": "9bf2f56b",
   "metadata": {},
   "source": [
    "## Format to Dataframe "
   ]
  },
  {
   "cell_type": "code",
   "execution_count": 5,
   "id": "22a7ce97",
   "metadata": {},
   "outputs": [],
   "source": [
    "posts = posts_rows.map(extract_posts_columns).to_dataframe()"
   ]
  },
  {
   "cell_type": "code",
   "execution_count": null,
   "id": "a586f34f",
   "metadata": {},
   "outputs": [],
   "source": [
    "with ProgressBar():\n",
    "    posts.repartition(npartitions=100)\\\n",
    "        .to_parquet('D:\\PROJECT\\dataset_parq\\posts.parq', engine='fastparquet', compression='snappy')"
   ]
  },
  {
   "cell_type": "code",
   "execution_count": 13,
   "id": "a73bbd83",
   "metadata": {},
   "outputs": [],
   "source": [
    "java = posts.query(\"tags.str.contains('java', na=False)\")"
   ]
  },
  {
   "cell_type": "code",
   "execution_count": 14,
   "id": "98ad052a",
   "metadata": {},
   "outputs": [],
   "source": [
    "c = posts.query(\"tags.str.contains('c#', na=False)\")"
   ]
  },
  {
   "cell_type": "code",
   "execution_count": 15,
   "id": "eb8d94a3",
   "metadata": {},
   "outputs": [],
   "source": [
    "python = posts.query(\"tags.str.contains('python', na=False)\")"
   ]
  },
  {
   "cell_type": "markdown",
   "id": "d040e74c",
   "metadata": {},
   "source": [
    "## Write Parsed Frame to Parquet"
   ]
  },
  {
   "cell_type": "code",
   "execution_count": 16,
   "id": "2afe0751",
   "metadata": {},
   "outputs": [
    {
     "name": "stdout",
     "output_type": "stream",
     "text": [
      "Writing Java...\n",
      "[########################################] | 100% Completed | 27min 12.0s\n",
      "Writing Python...\n",
      "[########################################] | 100% Completed | 27min  3.9s\n",
      "Writing C#...\n",
      "[########################################] | 100% Completed | 26min  2.1s\n"
     ]
    }
   ],
   "source": [
    "with ProgressBar():\n",
    "    print('Writing Java...')\n",
    "    java.repartition(npartitions=100)\\\n",
    "        .to_parquet('D:\\PROJECT\\dataset_select\\java.parq', engine='fastparquet', compression='snappy')\n",
    "with ProgressBar():\n",
    "    print('Writing Python...')\n",
    "    python.repartition(npartitions=100)\\\n",
    "        .to_parquet('D:\\PROJECT\\dataset_select\\python.parq', engine='fastparquet', compression='snappy')\n",
    "with ProgressBar():\n",
    "    print('Writing C#...')\n",
    "    c.repartition(npartitions=100)\\\n",
    "        .to_parquet('D:\\PROJECT\\dataset_select\\c.parq', engine='fastparquet', compression='snappy')    "
   ]
  },
  {
   "cell_type": "markdown",
   "id": "326e22e5",
   "metadata": {},
   "source": [
    "## Exploration"
   ]
  },
  {
   "cell_type": "code",
   "execution_count": 7,
   "id": "4f2b70c3",
   "metadata": {},
   "outputs": [],
   "source": [
    "posts = dd.read_parquet('D:\\PROJECT\\dataset_parq\\posts.parq', engine='fastparquet')"
   ]
  },
  {
   "cell_type": "code",
   "execution_count": 33,
   "id": "1a485789",
   "metadata": {},
   "outputs": [
    {
     "name": "stdout",
     "output_type": "stream",
     "text": [
      "[########################################] | 100% Completed | 31.5s\n"
     ]
    },
    {
     "data": {
      "text/html": [
       "<div>\n",
       "<style scoped>\n",
       "    .dataframe tbody tr th:only-of-type {\n",
       "        vertical-align: middle;\n",
       "    }\n",
       "\n",
       "    .dataframe tbody tr th {\n",
       "        vertical-align: top;\n",
       "    }\n",
       "\n",
       "    .dataframe thead th {\n",
       "        text-align: right;\n",
       "    }\n",
       "</style>\n",
       "<table border=\"1\" class=\"dataframe\">\n",
       "  <thead>\n",
       "    <tr style=\"text-align: right;\">\n",
       "      <th></th>\n",
       "      <th>count</th>\n",
       "    </tr>\n",
       "    <tr>\n",
       "      <th>creation_date</th>\n",
       "      <th></th>\n",
       "    </tr>\n",
       "  </thead>\n",
       "  <tbody>\n",
       "    <tr>\n",
       "      <th>2008</th>\n",
       "      <td>57802</td>\n",
       "    </tr>\n",
       "    <tr>\n",
       "      <th>2009</th>\n",
       "      <td>342158</td>\n",
       "    </tr>\n",
       "    <tr>\n",
       "      <th>2010</th>\n",
       "      <td>691588</td>\n",
       "    </tr>\n",
       "    <tr>\n",
       "      <th>2011</th>\n",
       "      <td>1191477</td>\n",
       "    </tr>\n",
       "    <tr>\n",
       "      <th>2012</th>\n",
       "      <td>1631510</td>\n",
       "    </tr>\n",
       "    <tr>\n",
       "      <th>2013</th>\n",
       "      <td>2040534</td>\n",
       "    </tr>\n",
       "    <tr>\n",
       "      <th>2014</th>\n",
       "      <td>2144535</td>\n",
       "    </tr>\n",
       "    <tr>\n",
       "      <th>2015</th>\n",
       "      <td>2200729</td>\n",
       "    </tr>\n",
       "    <tr>\n",
       "      <th>2016</th>\n",
       "      <td>2204101</td>\n",
       "    </tr>\n",
       "    <tr>\n",
       "      <th>2017</th>\n",
       "      <td>2119823</td>\n",
       "    </tr>\n",
       "    <tr>\n",
       "      <th>2018</th>\n",
       "      <td>1896511</td>\n",
       "    </tr>\n",
       "    <tr>\n",
       "      <th>2019</th>\n",
       "      <td>1774512</td>\n",
       "    </tr>\n",
       "    <tr>\n",
       "      <th>2020</th>\n",
       "      <td>1989161</td>\n",
       "    </tr>\n",
       "    <tr>\n",
       "      <th>2021</th>\n",
       "      <td>1357455</td>\n",
       "    </tr>\n",
       "  </tbody>\n",
       "</table>\n",
       "</div>"
      ],
      "text/plain": [
       "                 count\n",
       "creation_date         \n",
       "2008             57802\n",
       "2009            342158\n",
       "2010            691588\n",
       "2011           1191477\n",
       "2012           1631510\n",
       "2013           2040534\n",
       "2014           2144535\n",
       "2015           2200729\n",
       "2016           2204101\n",
       "2017           2119823\n",
       "2018           1896511\n",
       "2019           1774512\n",
       "2020           1989161\n",
       "2021           1357455"
      ]
     },
     "execution_count": 33,
     "metadata": {},
     "output_type": "execute_result"
    }
   ],
   "source": [
    "with ProgressBar():\n",
    "    posts_count = posts.groupby(posts.creation_date.dt.year)\\\n",
    "        .id.count()\\\n",
    "        .to_frame()\\\n",
    "        .rename(columns={'id': 'count'})\\\n",
    "        .compute()\n",
    "posts_count\n"
   ]
  },
  {
   "cell_type": "code",
   "execution_count": 6,
   "id": "83a77577",
   "metadata": {},
   "outputs": [
    {
     "name": "stdout",
     "output_type": "stream",
     "text": [
      "[########################################] | 100% Completed | 30min 38.1s\n"
     ]
    },
    {
     "data": {
      "text/html": [
       "<div>\n",
       "<style scoped>\n",
       "    .dataframe tbody tr th:only-of-type {\n",
       "        vertical-align: middle;\n",
       "    }\n",
       "\n",
       "    .dataframe tbody tr th {\n",
       "        vertical-align: top;\n",
       "    }\n",
       "\n",
       "    .dataframe thead th {\n",
       "        text-align: right;\n",
       "    }\n",
       "</style>\n",
       "<table border=\"1\" class=\"dataframe\">\n",
       "  <thead>\n",
       "    <tr style=\"text-align: right;\">\n",
       "      <th></th>\n",
       "      <th>id</th>\n",
       "    </tr>\n",
       "    <tr>\n",
       "      <th>post_type_id</th>\n",
       "      <th></th>\n",
       "    </tr>\n",
       "  </thead>\n",
       "  <tbody>\n",
       "    <tr>\n",
       "      <th>1</th>\n",
       "      <td>21641802</td>\n",
       "    </tr>\n",
       "    <tr>\n",
       "      <th>2</th>\n",
       "      <td>32199928</td>\n",
       "    </tr>\n",
       "    <tr>\n",
       "      <th>3</th>\n",
       "      <td>167</td>\n",
       "    </tr>\n",
       "    <tr>\n",
       "      <th>4</th>\n",
       "      <td>53824</td>\n",
       "    </tr>\n",
       "    <tr>\n",
       "      <th>5</th>\n",
       "      <td>53824</td>\n",
       "    </tr>\n",
       "    <tr>\n",
       "      <th>6</th>\n",
       "      <td>334</td>\n",
       "    </tr>\n",
       "    <tr>\n",
       "      <th>7</th>\n",
       "      <td>5</td>\n",
       "    </tr>\n",
       "    <tr>\n",
       "      <th>8</th>\n",
       "      <td>2</td>\n",
       "    </tr>\n",
       "  </tbody>\n",
       "</table>\n",
       "</div>"
      ],
      "text/plain": [
       "                    id\n",
       "post_type_id          \n",
       "1             21641802\n",
       "2             32199928\n",
       "3                  167\n",
       "4                53824\n",
       "5                53824\n",
       "6                  334\n",
       "7                    5\n",
       "8                    2"
      ]
     },
     "execution_count": 6,
     "metadata": {},
     "output_type": "execute_result"
    }
   ],
   "source": [
    "with ProgressBar():\n",
    "    posts_count = posts.groupby(posts.post_type_id)\\\n",
    "        .id.count()\\\n",
    "        .to_frame()\\\n",
    "        .rename(columns={'post_type_id': 'count'})\\\n",
    "        .compute()\n",
    "posts_count\n"
   ]
  },
  {
   "cell_type": "code",
   "execution_count": 17,
   "id": "1c9ab88d",
   "metadata": {},
   "outputs": [
    {
     "name": "stdout",
     "output_type": "stream",
     "text": [
      "[########################################] | 100% Completed | 26min 59.2s\n"
     ]
    },
    {
     "data": {
      "text/html": [
       "<div>\n",
       "<style scoped>\n",
       "    .dataframe tbody tr th:only-of-type {\n",
       "        vertical-align: middle;\n",
       "    }\n",
       "\n",
       "    .dataframe tbody tr th {\n",
       "        vertical-align: top;\n",
       "    }\n",
       "\n",
       "    .dataframe thead th {\n",
       "        text-align: right;\n",
       "    }\n",
       "</style>\n",
       "<table border=\"1\" class=\"dataframe\">\n",
       "  <thead>\n",
       "    <tr style=\"text-align: right;\">\n",
       "      <th></th>\n",
       "      <th>id</th>\n",
       "    </tr>\n",
       "    <tr>\n",
       "      <th>post_type_id</th>\n",
       "      <th></th>\n",
       "    </tr>\n",
       "  </thead>\n",
       "  <tbody>\n",
       "    <tr>\n",
       "      <th>1</th>\n",
       "      <td>1965461</td>\n",
       "    </tr>\n",
       "  </tbody>\n",
       "</table>\n",
       "</div>"
      ],
      "text/plain": [
       "                   id\n",
       "post_type_id         \n",
       "1             1965461"
      ]
     },
     "execution_count": 17,
     "metadata": {},
     "output_type": "execute_result"
    }
   ],
   "source": [
    "with ProgressBar():\n",
    "    posts_count = python.groupby(python.post_type_id)\\\n",
    "        .id.count()\\\n",
    "        .to_frame()\\\n",
    "        .rename(columns={'post_type_id': 'count'})\\\n",
    "        .compute()\n",
    "posts_count\n"
   ]
  },
  {
   "cell_type": "code",
   "execution_count": 39,
   "id": "2e37510b",
   "metadata": {},
   "outputs": [
    {
     "name": "stdout",
     "output_type": "stream",
     "text": [
      "Total x, y pairs:  21641896\n"
     ]
    }
   ],
   "source": [
    "print(\"Total x, y pairs: \", np.sum(posts_count['count']))"
   ]
  },
  {
   "cell_type": "markdown",
   "id": "93e76d86",
   "metadata": {},
   "source": [
    "## Further Cleaning"
   ]
  },
  {
   "cell_type": "code",
   "execution_count": 14,
   "id": "ab4c02bd",
   "metadata": {},
   "outputs": [
    {
     "name": "stdout",
     "output_type": "stream",
     "text": [
      "[########################################] | 100% Completed | 34min 57.7s\n"
     ]
    }
   ],
   "source": [
    "def extract_indv_tags(val):\n",
    "    return [v.strip(\">\") for v in str(val).split('<')][1:]\n",
    "with ProgressBar():\n",
    "    posts['tags'] = posts['tags'].map(extract_indv_tags).compute()"
   ]
  },
  {
   "cell_type": "code",
   "execution_count": 12,
   "id": "216ce8fc",
   "metadata": {},
   "outputs": [
    {
     "data": {
      "text/html": [
       "<div><strong>Dask DataFrame Structure:</strong></div>\n",
       "<div>\n",
       "<style scoped>\n",
       "    .dataframe tbody tr th:only-of-type {\n",
       "        vertical-align: middle;\n",
       "    }\n",
       "\n",
       "    .dataframe tbody tr th {\n",
       "        vertical-align: top;\n",
       "    }\n",
       "\n",
       "    .dataframe thead th {\n",
       "        text-align: right;\n",
       "    }\n",
       "</style>\n",
       "<table border=\"1\" class=\"dataframe\">\n",
       "  <thead>\n",
       "    <tr style=\"text-align: right;\">\n",
       "      <th></th>\n",
       "      <th>post_type_id</th>\n",
       "      <th>accepted_answer_id</th>\n",
       "      <th>creation_date</th>\n",
       "      <th>score</th>\n",
       "      <th>view_count</th>\n",
       "      <th>title</th>\n",
       "      <th>tags</th>\n",
       "      <th>body</th>\n",
       "    </tr>\n",
       "    <tr>\n",
       "      <th>npartitions=920</th>\n",
       "      <th></th>\n",
       "      <th></th>\n",
       "      <th></th>\n",
       "      <th></th>\n",
       "      <th></th>\n",
       "      <th></th>\n",
       "      <th></th>\n",
       "      <th></th>\n",
       "    </tr>\n",
       "  </thead>\n",
       "  <tbody>\n",
       "    <tr>\n",
       "      <th>4</th>\n",
       "      <td>int64</td>\n",
       "      <td>int64</td>\n",
       "      <td>datetime64[ns]</td>\n",
       "      <td>int64</td>\n",
       "      <td>int64</td>\n",
       "      <td>object</td>\n",
       "      <td>object</td>\n",
       "      <td>object</td>\n",
       "    </tr>\n",
       "    <tr>\n",
       "      <th>155884</th>\n",
       "      <td>...</td>\n",
       "      <td>...</td>\n",
       "      <td>...</td>\n",
       "      <td>...</td>\n",
       "      <td>...</td>\n",
       "      <td>...</td>\n",
       "      <td>...</td>\n",
       "      <td>...</td>\n",
       "    </tr>\n",
       "    <tr>\n",
       "      <th>...</th>\n",
       "      <td>...</td>\n",
       "      <td>...</td>\n",
       "      <td>...</td>\n",
       "      <td>...</td>\n",
       "      <td>...</td>\n",
       "      <td>...</td>\n",
       "      <td>...</td>\n",
       "      <td>...</td>\n",
       "    </tr>\n",
       "    <tr>\n",
       "      <th>69038780</th>\n",
       "      <td>...</td>\n",
       "      <td>...</td>\n",
       "      <td>...</td>\n",
       "      <td>...</td>\n",
       "      <td>...</td>\n",
       "      <td>...</td>\n",
       "      <td>...</td>\n",
       "      <td>...</td>\n",
       "    </tr>\n",
       "    <tr>\n",
       "      <th>69061027</th>\n",
       "      <td>...</td>\n",
       "      <td>...</td>\n",
       "      <td>...</td>\n",
       "      <td>...</td>\n",
       "      <td>...</td>\n",
       "      <td>...</td>\n",
       "      <td>...</td>\n",
       "      <td>...</td>\n",
       "    </tr>\n",
       "  </tbody>\n",
       "</table>\n",
       "</div>\n",
       "<div>Dask Name: sort_index, 4600 tasks</div>"
      ],
      "text/plain": [
       "Dask DataFrame Structure:\n",
       "                post_type_id accepted_answer_id   creation_date  score view_count   title    tags    body\n",
       "npartitions=920                                                                                          \n",
       "4                      int64              int64  datetime64[ns]  int64      int64  object  object  object\n",
       "155884                   ...                ...             ...    ...        ...     ...     ...     ...\n",
       "...                      ...                ...             ...    ...        ...     ...     ...     ...\n",
       "69038780                 ...                ...             ...    ...        ...     ...     ...     ...\n",
       "69061027                 ...                ...             ...    ...        ...     ...     ...     ...\n",
       "Dask Name: sort_index, 4600 tasks"
      ]
     },
     "execution_count": 12,
     "metadata": {},
     "output_type": "execute_result"
    }
   ],
   "source": [
    "posts"
   ]
  },
  {
   "cell_type": "code",
   "execution_count": 13,
   "id": "12b1766b",
   "metadata": {},
   "outputs": [],
   "source": [
    "def to_1D(series):\n",
    " return pd.Series([x for _list in series for x in _list])\n",
    "\n",
    "def boolean_df(item_lists, unique_items):\n",
    "    bool_dict = {}\n",
    "    \n",
    "    # Loop through all the tags\n",
    "    for i, item in enumerate(unique_items):\n",
    "        print(item)\n",
    "        bool_dict[item] = item_lists.apply(lambda x: item in x, meta=('tags', 'bool')).compute()\n",
    "            \n",
    "    # Return the results as a dataframe\n",
    "    return pd.DataFrame(bool_dict)"
   ]
  },
  {
   "cell_type": "code",
   "execution_count": null,
   "id": "38b99b17",
   "metadata": {},
   "outputs": [],
   "source": [
    "with ProgressBar():\n",
    "    unique_items = to_1D(posts['tags']).value_counts()"
   ]
  },
  {
   "cell_type": "code",
   "execution_count": null,
   "id": "94fd6b2a",
   "metadata": {
    "scrolled": true
   },
   "outputs": [],
   "source": [
    "subset = unique_items.head(25)\n",
    "subset"
   ]
  },
  {
   "cell_type": "code",
   "execution_count": 119,
   "id": "8b0a5738",
   "metadata": {},
   "outputs": [
    {
     "data": {
      "text/plain": [
       "Index(['javascript', 'java', 'python', 'c#', 'php', 'android', 'html',\n",
       "       'jquery', 'c++', 'css', 'ios', 'mysql', 'sql', 'r', 'node.js', 'arrays',\n",
       "       'asp.net', 'c', 'reactjs', 'ruby-on-rails', 'json', '.net',\n",
       "       'sql-server', 'swift', 'python-3.x'],\n",
       "      dtype='object')"
      ]
     },
     "execution_count": 119,
     "metadata": {},
     "output_type": "execute_result"
    }
   ],
   "source": [
    "subset.index"
   ]
  },
  {
   "cell_type": "code",
   "execution_count": 127,
   "id": "f9517df9",
   "metadata": {},
   "outputs": [
    {
     "ename": "TypeError",
     "evalue": "plot got an unexpected keyword argument 'x'",
     "output_type": "error",
     "traceback": [
      "\u001b[1;31m---------------------------------------------------------------------------\u001b[0m",
      "\u001b[1;31mTypeError\u001b[0m                                 Traceback (most recent call last)",
      "\u001b[1;32m<ipython-input-127-e8be1b11600f>\u001b[0m in \u001b[0;36m<module>\u001b[1;34m\u001b[0m\n\u001b[0;32m      2\u001b[0m \u001b[0msns\u001b[0m\u001b[1;33m.\u001b[0m\u001b[0mset_style\u001b[0m\u001b[1;33m(\u001b[0m\u001b[1;34m\"white\"\u001b[0m\u001b[1;33m)\u001b[0m\u001b[1;33m\u001b[0m\u001b[1;33m\u001b[0m\u001b[0m\n\u001b[0;32m      3\u001b[0m \u001b[0msns\u001b[0m\u001b[1;33m.\u001b[0m\u001b[0mbarplot\u001b[0m\u001b[1;33m(\u001b[0m\u001b[0mx\u001b[0m\u001b[1;33m=\u001b[0m\u001b[0msubset\u001b[0m\u001b[1;33m.\u001b[0m\u001b[0mvalues\u001b[0m\u001b[1;33m,\u001b[0m \u001b[0my\u001b[0m\u001b[1;33m=\u001b[0m\u001b[0msubset\u001b[0m\u001b[1;33m.\u001b[0m\u001b[0mindex\u001b[0m\u001b[1;33m,\u001b[0m \u001b[0medgecolor\u001b[0m\u001b[1;33m=\u001b[0m\u001b[1;34m\".2\"\u001b[0m\u001b[1;33m)\u001b[0m\u001b[1;33m\u001b[0m\u001b[1;33m\u001b[0m\u001b[0m\n\u001b[1;32m----> 4\u001b[1;33m \u001b[0mplt\u001b[0m\u001b[1;33m.\u001b[0m\u001b[0mplot\u001b[0m\u001b[1;33m(\u001b[0m\u001b[0mx\u001b[0m\u001b[1;33m=\u001b[0m\u001b[1;36m1.5\u001b[0m\u001b[1;33m*\u001b[0m\u001b[1;36m10\u001b[0m\u001b[1;33m**\u001b[0m\u001b[1;36m6\u001b[0m\u001b[1;33m,\u001b[0m \u001b[0mcolor\u001b[0m\u001b[1;33m=\u001b[0m\u001b[1;34m'r'\u001b[0m\u001b[1;33m)\u001b[0m\u001b[1;33m\u001b[0m\u001b[1;33m\u001b[0m\u001b[0m\n\u001b[0m\u001b[0;32m      5\u001b[0m \u001b[0mplt\u001b[0m\u001b[1;33m.\u001b[0m\u001b[0mshow\u001b[0m\u001b[1;33m(\u001b[0m\u001b[1;33m)\u001b[0m\u001b[1;33m\u001b[0m\u001b[1;33m\u001b[0m\u001b[0m\n",
      "\u001b[1;32m~\\AppData\\Roaming\\Python\\Python38\\site-packages\\matplotlib\\pyplot.py\u001b[0m in \u001b[0;36mplot\u001b[1;34m(scalex, scaley, data, *args, **kwargs)\u001b[0m\n\u001b[0;32m   3017\u001b[0m \u001b[1;33m@\u001b[0m\u001b[0m_copy_docstring_and_deprecators\u001b[0m\u001b[1;33m(\u001b[0m\u001b[0mAxes\u001b[0m\u001b[1;33m.\u001b[0m\u001b[0mplot\u001b[0m\u001b[1;33m)\u001b[0m\u001b[1;33m\u001b[0m\u001b[1;33m\u001b[0m\u001b[0m\n\u001b[0;32m   3018\u001b[0m \u001b[1;32mdef\u001b[0m \u001b[0mplot\u001b[0m\u001b[1;33m(\u001b[0m\u001b[1;33m*\u001b[0m\u001b[0margs\u001b[0m\u001b[1;33m,\u001b[0m \u001b[0mscalex\u001b[0m\u001b[1;33m=\u001b[0m\u001b[1;32mTrue\u001b[0m\u001b[1;33m,\u001b[0m \u001b[0mscaley\u001b[0m\u001b[1;33m=\u001b[0m\u001b[1;32mTrue\u001b[0m\u001b[1;33m,\u001b[0m \u001b[0mdata\u001b[0m\u001b[1;33m=\u001b[0m\u001b[1;32mNone\u001b[0m\u001b[1;33m,\u001b[0m \u001b[1;33m**\u001b[0m\u001b[0mkwargs\u001b[0m\u001b[1;33m)\u001b[0m\u001b[1;33m:\u001b[0m\u001b[1;33m\u001b[0m\u001b[1;33m\u001b[0m\u001b[0m\n\u001b[1;32m-> 3019\u001b[1;33m     return gca().plot(\n\u001b[0m\u001b[0;32m   3020\u001b[0m         \u001b[1;33m*\u001b[0m\u001b[0margs\u001b[0m\u001b[1;33m,\u001b[0m \u001b[0mscalex\u001b[0m\u001b[1;33m=\u001b[0m\u001b[0mscalex\u001b[0m\u001b[1;33m,\u001b[0m \u001b[0mscaley\u001b[0m\u001b[1;33m=\u001b[0m\u001b[0mscaley\u001b[0m\u001b[1;33m,\u001b[0m\u001b[1;33m\u001b[0m\u001b[1;33m\u001b[0m\u001b[0m\n\u001b[0;32m   3021\u001b[0m         **({\"data\": data} if data is not None else {}), **kwargs)\n",
      "\u001b[1;32m~\\AppData\\Roaming\\Python\\Python38\\site-packages\\matplotlib\\axes\\_axes.py\u001b[0m in \u001b[0;36mplot\u001b[1;34m(self, scalex, scaley, data, *args, **kwargs)\u001b[0m\n\u001b[0;32m   1603\u001b[0m         \"\"\"\n\u001b[0;32m   1604\u001b[0m         \u001b[0mkwargs\u001b[0m \u001b[1;33m=\u001b[0m \u001b[0mcbook\u001b[0m\u001b[1;33m.\u001b[0m\u001b[0mnormalize_kwargs\u001b[0m\u001b[1;33m(\u001b[0m\u001b[0mkwargs\u001b[0m\u001b[1;33m,\u001b[0m \u001b[0mmlines\u001b[0m\u001b[1;33m.\u001b[0m\u001b[0mLine2D\u001b[0m\u001b[1;33m)\u001b[0m\u001b[1;33m\u001b[0m\u001b[1;33m\u001b[0m\u001b[0m\n\u001b[1;32m-> 1605\u001b[1;33m         \u001b[0mlines\u001b[0m \u001b[1;33m=\u001b[0m \u001b[1;33m[\u001b[0m\u001b[1;33m*\u001b[0m\u001b[0mself\u001b[0m\u001b[1;33m.\u001b[0m\u001b[0m_get_lines\u001b[0m\u001b[1;33m(\u001b[0m\u001b[1;33m*\u001b[0m\u001b[0margs\u001b[0m\u001b[1;33m,\u001b[0m \u001b[0mdata\u001b[0m\u001b[1;33m=\u001b[0m\u001b[0mdata\u001b[0m\u001b[1;33m,\u001b[0m \u001b[1;33m**\u001b[0m\u001b[0mkwargs\u001b[0m\u001b[1;33m)\u001b[0m\u001b[1;33m]\u001b[0m\u001b[1;33m\u001b[0m\u001b[1;33m\u001b[0m\u001b[0m\n\u001b[0m\u001b[0;32m   1606\u001b[0m         \u001b[1;32mfor\u001b[0m \u001b[0mline\u001b[0m \u001b[1;32min\u001b[0m \u001b[0mlines\u001b[0m\u001b[1;33m:\u001b[0m\u001b[1;33m\u001b[0m\u001b[1;33m\u001b[0m\u001b[0m\n\u001b[0;32m   1607\u001b[0m             \u001b[0mself\u001b[0m\u001b[1;33m.\u001b[0m\u001b[0madd_line\u001b[0m\u001b[1;33m(\u001b[0m\u001b[0mline\u001b[0m\u001b[1;33m)\u001b[0m\u001b[1;33m\u001b[0m\u001b[1;33m\u001b[0m\u001b[0m\n",
      "\u001b[1;32m~\\AppData\\Roaming\\Python\\Python38\\site-packages\\matplotlib\\axes\\_base.py\u001b[0m in \u001b[0;36m__call__\u001b[1;34m(self, data, *args, **kwargs)\u001b[0m\n\u001b[0;32m    248\u001b[0m         \u001b[1;32mfor\u001b[0m \u001b[0mpos_only\u001b[0m \u001b[1;32min\u001b[0m \u001b[1;34m\"xy\"\u001b[0m\u001b[1;33m:\u001b[0m\u001b[1;33m\u001b[0m\u001b[1;33m\u001b[0m\u001b[0m\n\u001b[0;32m    249\u001b[0m             \u001b[1;32mif\u001b[0m \u001b[0mpos_only\u001b[0m \u001b[1;32min\u001b[0m \u001b[0mkwargs\u001b[0m\u001b[1;33m:\u001b[0m\u001b[1;33m\u001b[0m\u001b[1;33m\u001b[0m\u001b[0m\n\u001b[1;32m--> 250\u001b[1;33m                 raise TypeError(\"{} got an unexpected keyword argument {!r}\"\n\u001b[0m\u001b[0;32m    251\u001b[0m                                 .format(self.command, pos_only))\n\u001b[0;32m    252\u001b[0m \u001b[1;33m\u001b[0m\u001b[0m\n",
      "\u001b[1;31mTypeError\u001b[0m: plot got an unexpected keyword argument 'x'"
     ]
    },
    {
     "data": {
      "image/png": "[encoded data removed]",
      "text/plain": [
       "<Figure size 842.4x595.44 with 1 Axes>"
      ]
     },
     "metadata": {},
     "output_type": "display_data"
    }
   ],
   "source": [
    "sns.set(rc={'figure.figsize':(11.7,8.27)})\n",
    "sns.set_style(\"white\")\n",
    "sns.barplot(x=subset.values, y=subset.index, edgecolor=\".2\")\n",
    "plt.plot(x=1.5*10**6, color='r')\n",
    "plt.show()"
   ]
  },
  {
   "cell_type": "code",
   "execution_count": null,
   "id": "84480ac7",
   "metadata": {},
   "outputs": [],
   "source": [
    "with open('unique_tags.pkl', 'wb') as f:\n",
    "    pickle.dump([k for k in unique_items.keys()], f)"
   ]
  },
  {
   "cell_type": "code",
   "execution_count": 9,
   "id": "a27d7aa5",
   "metadata": {},
   "outputs": [],
   "source": [
    "with open('D:/PROJECT/dataset_tags/unique_tags.pkl', 'rb') as f:\n",
    "   tags = pickle.load(f)[:25]\n"
   ]
  },
  {
   "cell_type": "markdown",
   "id": "0205a6eb",
   "metadata": {},
   "source": [
    "## Tag Matrix for Filtering"
   ]
  },
  {
   "cell_type": "code",
   "execution_count": 14,
   "id": "2e8586c5",
   "metadata": {},
   "outputs": [
    {
     "name": "stdout",
     "output_type": "stream",
     "text": [
      "javascript\n",
      "java\n",
      "python\n",
      "c#\n",
      "php\n",
      "android\n",
      "html\n",
      "jquery\n",
      "c++\n",
      "css\n",
      "ios\n",
      "mysql\n",
      "sql\n",
      "r\n",
      "node.js\n",
      "arrays\n",
      "asp.net\n",
      "c\n",
      "reactjs\n",
      "ruby-on-rails\n",
      "json\n",
      ".net\n",
      "sql-server\n",
      "swift\n",
      "python-3.x\n"
     ]
    }
   ],
   "source": [
    "tag_matrix = boolean_df(posts['tags'], tags)"
   ]
  },
  {
   "cell_type": "code",
   "execution_count": 18,
   "id": "e8975661",
   "metadata": {},
   "outputs": [],
   "source": [
    "tmp = dd.from_pandas(tag_matrix, npartitions=30)"
   ]
  },
  {
   "cell_type": "code",
   "execution_count": 20,
   "id": "35b83d95",
   "metadata": {},
   "outputs": [
    {
     "name": "stdout",
     "output_type": "stream",
     "text": [
      "[########################################] | 100% Completed | 12.6s\n"
     ]
    }
   ],
   "source": [
    "with ProgressBar():\n",
    "    tmp.to_parquet('D:/PROJECT/dataset_tag_matrix/tag.parq', engine='fastparquet', compression='snappy')"
   ]
  },
  {
   "cell_type": "markdown",
   "id": "d1985163",
   "metadata": {},
   "source": [
    "## Testing Filters in Dask"
   ]
  },
  {
   "cell_type": "code",
   "execution_count": 11,
   "id": "a2939320",
   "metadata": {},
   "outputs": [],
   "source": [
    "tag_matrix = dd.read_parquet('D:\\PROJECT\\dataset_tag_matrix/tag.parq', engine='fastparquet')"
   ]
  },
  {
   "cell_type": "code",
   "execution_count": 38,
   "id": "982637d9",
   "metadata": {},
   "outputs": [
    {
     "data": {
      "text/html": [
       "<div><strong>Dask DataFrame Structure:</strong></div>\n",
       "<div>\n",
       "<style scoped>\n",
       "    .dataframe tbody tr th:only-of-type {\n",
       "        vertical-align: middle;\n",
       "    }\n",
       "\n",
       "    .dataframe tbody tr th {\n",
       "        vertical-align: top;\n",
       "    }\n",
       "\n",
       "    .dataframe thead th {\n",
       "        text-align: right;\n",
       "    }\n",
       "</style>\n",
       "<table border=\"1\" class=\"dataframe\">\n",
       "  <thead>\n",
       "    <tr style=\"text-align: right;\">\n",
       "      <th></th>\n",
       "      <th>javascript</th>\n",
       "      <th>java</th>\n",
       "      <th>python</th>\n",
       "      <th>c#</th>\n",
       "      <th>php</th>\n",
       "      <th>android</th>\n",
       "      <th>html</th>\n",
       "      <th>jquery</th>\n",
       "      <th>c++</th>\n",
       "      <th>css</th>\n",
       "      <th>ios</th>\n",
       "      <th>mysql</th>\n",
       "      <th>sql</th>\n",
       "      <th>r</th>\n",
       "      <th>node.js</th>\n",
       "      <th>arrays</th>\n",
       "      <th>asp.net</th>\n",
       "      <th>c</th>\n",
       "      <th>reactjs</th>\n",
       "      <th>ruby-on-rails</th>\n",
       "      <th>json</th>\n",
       "      <th>.net</th>\n",
       "      <th>sql-server</th>\n",
       "      <th>swift</th>\n",
       "      <th>python-3.x</th>\n",
       "    </tr>\n",
       "    <tr>\n",
       "      <th>npartitions=30</th>\n",
       "      <th></th>\n",
       "      <th></th>\n",
       "      <th></th>\n",
       "      <th></th>\n",
       "      <th></th>\n",
       "      <th></th>\n",
       "      <th></th>\n",
       "      <th></th>\n",
       "      <th></th>\n",
       "      <th></th>\n",
       "      <th></th>\n",
       "      <th></th>\n",
       "      <th></th>\n",
       "      <th></th>\n",
       "      <th></th>\n",
       "      <th></th>\n",
       "      <th></th>\n",
       "      <th></th>\n",
       "      <th></th>\n",
       "      <th></th>\n",
       "      <th></th>\n",
       "      <th></th>\n",
       "      <th></th>\n",
       "      <th></th>\n",
       "      <th></th>\n",
       "    </tr>\n",
       "  </thead>\n",
       "  <tbody>\n",
       "    <tr>\n",
       "      <th>0</th>\n",
       "      <td>bool</td>\n",
       "      <td>bool</td>\n",
       "      <td>bool</td>\n",
       "      <td>bool</td>\n",
       "      <td>bool</td>\n",
       "      <td>bool</td>\n",
       "      <td>bool</td>\n",
       "      <td>bool</td>\n",
       "      <td>bool</td>\n",
       "      <td>bool</td>\n",
       "      <td>bool</td>\n",
       "      <td>bool</td>\n",
       "      <td>bool</td>\n",
       "      <td>bool</td>\n",
       "      <td>bool</td>\n",
       "      <td>bool</td>\n",
       "      <td>bool</td>\n",
       "      <td>bool</td>\n",
       "      <td>bool</td>\n",
       "      <td>bool</td>\n",
       "      <td>bool</td>\n",
       "      <td>bool</td>\n",
       "      <td>bool</td>\n",
       "      <td>bool</td>\n",
       "      <td>bool</td>\n",
       "    </tr>\n",
       "    <tr>\n",
       "      <th>785</th>\n",
       "      <td>...</td>\n",
       "      <td>...</td>\n",
       "      <td>...</td>\n",
       "      <td>...</td>\n",
       "      <td>...</td>\n",
       "      <td>...</td>\n",
       "      <td>...</td>\n",
       "      <td>...</td>\n",
       "      <td>...</td>\n",
       "      <td>...</td>\n",
       "      <td>...</td>\n",
       "      <td>...</td>\n",
       "      <td>...</td>\n",
       "      <td>...</td>\n",
       "      <td>...</td>\n",
       "      <td>...</td>\n",
       "      <td>...</td>\n",
       "      <td>...</td>\n",
       "      <td>...</td>\n",
       "      <td>...</td>\n",
       "      <td>...</td>\n",
       "      <td>...</td>\n",
       "      <td>...</td>\n",
       "      <td>...</td>\n",
       "      <td>...</td>\n",
       "    </tr>\n",
       "    <tr>\n",
       "      <th>...</th>\n",
       "      <td>...</td>\n",
       "      <td>...</td>\n",
       "      <td>...</td>\n",
       "      <td>...</td>\n",
       "      <td>...</td>\n",
       "      <td>...</td>\n",
       "      <td>...</td>\n",
       "      <td>...</td>\n",
       "      <td>...</td>\n",
       "      <td>...</td>\n",
       "      <td>...</td>\n",
       "      <td>...</td>\n",
       "      <td>...</td>\n",
       "      <td>...</td>\n",
       "      <td>...</td>\n",
       "      <td>...</td>\n",
       "      <td>...</td>\n",
       "      <td>...</td>\n",
       "      <td>...</td>\n",
       "      <td>...</td>\n",
       "      <td>...</td>\n",
       "      <td>...</td>\n",
       "      <td>...</td>\n",
       "      <td>...</td>\n",
       "      <td>...</td>\n",
       "    </tr>\n",
       "    <tr>\n",
       "      <th>23009</th>\n",
       "      <td>...</td>\n",
       "      <td>...</td>\n",
       "      <td>...</td>\n",
       "      <td>...</td>\n",
       "      <td>...</td>\n",
       "      <td>...</td>\n",
       "      <td>...</td>\n",
       "      <td>...</td>\n",
       "      <td>...</td>\n",
       "      <td>...</td>\n",
       "      <td>...</td>\n",
       "      <td>...</td>\n",
       "      <td>...</td>\n",
       "      <td>...</td>\n",
       "      <td>...</td>\n",
       "      <td>...</td>\n",
       "      <td>...</td>\n",
       "      <td>...</td>\n",
       "      <td>...</td>\n",
       "      <td>...</td>\n",
       "      <td>...</td>\n",
       "      <td>...</td>\n",
       "      <td>...</td>\n",
       "      <td>...</td>\n",
       "      <td>...</td>\n",
       "    </tr>\n",
       "    <tr>\n",
       "      <th>27157</th>\n",
       "      <td>...</td>\n",
       "      <td>...</td>\n",
       "      <td>...</td>\n",
       "      <td>...</td>\n",
       "      <td>...</td>\n",
       "      <td>...</td>\n",
       "      <td>...</td>\n",
       "      <td>...</td>\n",
       "      <td>...</td>\n",
       "      <td>...</td>\n",
       "      <td>...</td>\n",
       "      <td>...</td>\n",
       "      <td>...</td>\n",
       "      <td>...</td>\n",
       "      <td>...</td>\n",
       "      <td>...</td>\n",
       "      <td>...</td>\n",
       "      <td>...</td>\n",
       "      <td>...</td>\n",
       "      <td>...</td>\n",
       "      <td>...</td>\n",
       "      <td>...</td>\n",
       "      <td>...</td>\n",
       "      <td>...</td>\n",
       "      <td>...</td>\n",
       "    </tr>\n",
       "  </tbody>\n",
       "</table>\n",
       "</div>\n",
       "<div>Dask Name: getitem, 120 tasks</div>"
      ],
      "text/plain": [
       "Dask DataFrame Structure:\n",
       "               javascript  java python    c#   php android  html jquery   c++   css   ios mysql   sql     r node.js arrays asp.net     c reactjs ruby-on-rails  json  .net sql-server swift python-3.x\n",
       "npartitions=30                                                                                                                                                                                        \n",
       "0                    bool  bool   bool  bool  bool    bool  bool   bool  bool  bool  bool  bool  bool  bool    bool   bool    bool  bool    bool          bool  bool  bool       bool  bool       bool\n",
       "785                   ...   ...    ...   ...   ...     ...   ...    ...   ...   ...   ...   ...   ...   ...     ...    ...     ...   ...     ...           ...   ...   ...        ...   ...        ...\n",
       "...                   ...   ...    ...   ...   ...     ...   ...    ...   ...   ...   ...   ...   ...   ...     ...    ...     ...   ...     ...           ...   ...   ...        ...   ...        ...\n",
       "23009                 ...   ...    ...   ...   ...     ...   ...    ...   ...   ...   ...   ...   ...   ...     ...    ...     ...   ...     ...           ...   ...   ...        ...   ...        ...\n",
       "27157                 ...   ...    ...   ...   ...     ...   ...    ...   ...   ...   ...   ...   ...   ...     ...    ...     ...   ...     ...           ...   ...   ...        ...   ...        ...\n",
       "Dask Name: getitem, 120 tasks"
      ]
     },
     "execution_count": 38,
     "metadata": {},
     "output_type": "execute_result"
    }
   ],
   "source": [
    "tag_matrix[tag_matrix['javascript']==True]"
   ]
  },
  {
   "cell_type": "code",
   "execution_count": 11,
   "id": "3f21b3ab",
   "metadata": {},
   "outputs": [
    {
     "name": "stdout",
     "output_type": "stream",
     "text": [
      "[########################################] | 100% Completed | 32min 56.5s\n"
     ]
    }
   ],
   "source": [
    "with ProgressBar():\n",
    "    posts = posts.reset_index().set_index('id')"
   ]
  },
  {
   "cell_type": "code",
   "execution_count": 10,
   "id": "9ccd6fd2",
   "metadata": {},
   "outputs": [],
   "source": [
    "del tag_matrix"
   ]
  },
  {
   "cell_type": "code",
   "execution_count": 16,
   "id": "dc569796",
   "metadata": {},
   "outputs": [
    {
     "data": {
      "text/html": [
       "<div><strong>Dask DataFrame Structure:</strong></div>\n",
       "<div>\n",
       "<style scoped>\n",
       "    .dataframe tbody tr th:only-of-type {\n",
       "        vertical-align: middle;\n",
       "    }\n",
       "\n",
       "    .dataframe tbody tr th {\n",
       "        vertical-align: top;\n",
       "    }\n",
       "\n",
       "    .dataframe thead th {\n",
       "        text-align: right;\n",
       "    }\n",
       "</style>\n",
       "<table border=\"1\" class=\"dataframe\">\n",
       "  <thead>\n",
       "    <tr style=\"text-align: right;\">\n",
       "      <th></th>\n",
       "      <th>index</th>\n",
       "      <th>post_type_id</th>\n",
       "      <th>accepted_answer_id</th>\n",
       "      <th>creation_date</th>\n",
       "      <th>score</th>\n",
       "      <th>view_count</th>\n",
       "      <th>title</th>\n",
       "      <th>tags</th>\n",
       "      <th>body</th>\n",
       "    </tr>\n",
       "    <tr>\n",
       "      <th>npartitions=951</th>\n",
       "      <th></th>\n",
       "      <th></th>\n",
       "      <th></th>\n",
       "      <th></th>\n",
       "      <th></th>\n",
       "      <th></th>\n",
       "      <th></th>\n",
       "      <th></th>\n",
       "      <th></th>\n",
       "    </tr>\n",
       "  </thead>\n",
       "  <tbody>\n",
       "    <tr>\n",
       "      <th>0</th>\n",
       "      <td>int64</td>\n",
       "      <td>int64</td>\n",
       "      <td>int64</td>\n",
       "      <td>datetime64[ns]</td>\n",
       "      <td>int64</td>\n",
       "      <td>int64</td>\n",
       "      <td>object</td>\n",
       "      <td>object</td>\n",
       "      <td>object</td>\n",
       "    </tr>\n",
       "    <tr>\n",
       "      <th>4</th>\n",
       "      <td>...</td>\n",
       "      <td>...</td>\n",
       "      <td>...</td>\n",
       "      <td>...</td>\n",
       "      <td>...</td>\n",
       "      <td>...</td>\n",
       "      <td>...</td>\n",
       "      <td>...</td>\n",
       "      <td>...</td>\n",
       "    </tr>\n",
       "    <tr>\n",
       "      <th>...</th>\n",
       "      <td>...</td>\n",
       "      <td>...</td>\n",
       "      <td>...</td>\n",
       "      <td>...</td>\n",
       "      <td>...</td>\n",
       "      <td>...</td>\n",
       "      <td>...</td>\n",
       "      <td>...</td>\n",
       "      <td>...</td>\n",
       "    </tr>\n",
       "    <tr>\n",
       "      <th>69038780</th>\n",
       "      <td>...</td>\n",
       "      <td>...</td>\n",
       "      <td>...</td>\n",
       "      <td>...</td>\n",
       "      <td>...</td>\n",
       "      <td>...</td>\n",
       "      <td>...</td>\n",
       "      <td>...</td>\n",
       "      <td>...</td>\n",
       "    </tr>\n",
       "    <tr>\n",
       "      <th>69061027</th>\n",
       "      <td>...</td>\n",
       "      <td>...</td>\n",
       "      <td>...</td>\n",
       "      <td>...</td>\n",
       "      <td>...</td>\n",
       "      <td>...</td>\n",
       "      <td>...</td>\n",
       "      <td>...</td>\n",
       "      <td>...</td>\n",
       "    </tr>\n",
       "  </tbody>\n",
       "</table>\n",
       "</div>\n",
       "<div>Dask Name: loc-series, 10365 tasks</div>"
      ],
      "text/plain": [
       "Dask DataFrame Structure:\n",
       "                 index post_type_id accepted_answer_id   creation_date  score view_count   title    tags    body\n",
       "npartitions=951                                                                                                 \n",
       "0                int64        int64              int64  datetime64[ns]  int64      int64  object  object  object\n",
       "4                  ...          ...                ...             ...    ...        ...     ...     ...     ...\n",
       "...                ...          ...                ...             ...    ...        ...     ...     ...     ...\n",
       "69038780           ...          ...                ...             ...    ...        ...     ...     ...     ...\n",
       "69061027           ...          ...                ...             ...    ...        ...     ...     ...     ...\n",
       "Dask Name: loc-series, 10365 tasks"
      ]
     },
     "execution_count": 16,
     "metadata": {},
     "output_type": "execute_result"
    }
   ],
   "source": [
    "posts.loc[tag_matrix['javascript']==True]"
   ]
  }
 ],
 "metadata": {
  "kernelspec": {
   "display_name": "Python 3",
   "language": "python",
   "name": "python3"
  },
  "language_info": {
   "codemirror_mode": {
    "name": "ipython",
    "version": 3
   },
   "file_extension": ".py",
   "mimetype": "text/x-python",
   "name": "python",
   "nbconvert_exporter": "python",
   "pygments_lexer": "ipython3",
   "version": "3.8.2"
  }
 },
 "nbformat": 4,
 "nbformat_minor": 5
}
