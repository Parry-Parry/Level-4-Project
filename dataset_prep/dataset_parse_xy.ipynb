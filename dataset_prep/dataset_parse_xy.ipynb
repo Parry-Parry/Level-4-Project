{
 "cells": [
  {
   "cell_type": "code",
   "execution_count": 1,
   "id": "c23a9808",
   "metadata": {},
   "outputs": [],
   "source": [
    "import dask\n",
    "import dask.bag as db\n",
    "import dask.dataframe as dd\n",
    "from dask.diagnostics import ProgressBar\n",
    "\n",
    "import pandas as pd\n",
    "from pandas import DataFrame as df\n",
    "import re\n",
    "from datetime import datetime\n",
    "import numpy as np\n",
    "import pickle\n",
    "\n",
    "import seaborn as sns\n",
    "import matplotlib.pyplot as plt\n",
    "\n",
    "dask.config.set(scheduler='multiprocessing')\n",
    "dask.config.set({\"array.slicing.split_large_chunks\": True})\n",
    "    \n",
    "%matplotlib inline"
   ]
  },
  {
   "cell_type": "markdown",
   "id": "4cd3ed4d",
   "metadata": {},
   "source": [
    "### Combine 3 Datasets"
   ]
  },
  {
   "cell_type": "code",
   "execution_count": null,
   "id": "e7fa1272",
   "metadata": {},
   "outputs": [],
   "source": [
    "'''\n",
    "TODO:\n",
    "    Bring datasets in with dask\n",
    "    Convert to pandas\n",
    "    Combine datasets\n",
    "    Parse Code and Context\n",
    "'''"
   ]
  },
  {
   "cell_type": "markdown",
   "id": "e40233ef",
   "metadata": {},
   "source": [
    "# Regex to extract code blocks\n",
    "* Find max length block and transfer to new column\n",
    "* Take others and make context code column\n",
    "* Check for \"ERROR\" and drop columns"
   ]
  },
  {
   "cell_type": "markdown",
   "id": "89de731b",
   "metadata": {},
   "source": [
    "## Parse main code block"
   ]
  },
  {
   "cell_type": "code",
   "execution_count": 37,
   "id": "15d9767f",
   "metadata": {},
   "outputs": [],
   "source": [
    "def extract_code_block(body):\n",
    "    pattern = r'<code>(.*?)</code>'\n",
    "    match = re.findall(pattern, body)\n",
    "    return \"ERROR\" if not match else str(max(match, key=len))"
   ]
  },
  {
   "cell_type": "markdown",
   "id": "1177281f",
   "metadata": {},
   "source": [
    "### Test"
   ]
  },
  {
   "cell_type": "code",
   "execution_count": 22,
   "id": "5d7e3159",
   "metadata": {},
   "outputs": [],
   "source": [
    "string1 = \"Testing <code>long</code> something about this block <code>longer</code> xyz <code>longest</code>\"\n",
    "string2 = \"Test without code\""
   ]
  },
  {
   "cell_type": "code",
   "execution_count": 38,
   "id": "871093cc",
   "metadata": {},
   "outputs": [],
   "source": [
    "df = pd.DataFrame()\n",
    "df['body'] = [string1, string2]"
   ]
  },
  {
   "cell_type": "code",
   "execution_count": 39,
   "id": "e07df56a",
   "metadata": {},
   "outputs": [],
   "source": [
    "df['block'] = df['body'].map(lambda x : extract_code_block(x))"
   ]
  },
  {
   "cell_type": "code",
   "execution_count": 40,
   "id": "7f4d20c5",
   "metadata": {},
   "outputs": [
    {
     "data": {
      "text/html": [
       "<div>\n",
       "<style scoped>\n",
       "    .dataframe tbody tr th:only-of-type {\n",
       "        vertical-align: middle;\n",
       "    }\n",
       "\n",
       "    .dataframe tbody tr th {\n",
       "        vertical-align: top;\n",
       "    }\n",
       "\n",
       "    .dataframe thead th {\n",
       "        text-align: right;\n",
       "    }\n",
       "</style>\n",
       "<table border=\"1\" class=\"dataframe\">\n",
       "  <thead>\n",
       "    <tr style=\"text-align: right;\">\n",
       "      <th></th>\n",
       "      <th>body</th>\n",
       "      <th>block</th>\n",
       "    </tr>\n",
       "  </thead>\n",
       "  <tbody>\n",
       "    <tr>\n",
       "      <th>0</th>\n",
       "      <td>Testing &lt;code&gt;long&lt;/code&gt; something about this...</td>\n",
       "      <td>longest</td>\n",
       "    </tr>\n",
       "    <tr>\n",
       "      <th>1</th>\n",
       "      <td>Test without code</td>\n",
       "      <td>ERROR</td>\n",
       "    </tr>\n",
       "  </tbody>\n",
       "</table>\n",
       "</div>"
      ],
      "text/plain": [
       "                                                body    block\n",
       "0  Testing <code>long</code> something about this...  longest\n",
       "1                                  Test without code    ERROR"
      ]
     },
     "execution_count": 40,
     "metadata": {},
     "output_type": "execute_result"
    }
   ],
   "source": [
    "df"
   ]
  },
  {
   "cell_type": "markdown",
   "id": "4be3c3aa",
   "metadata": {},
   "source": [
    "## Parse Context Code"
   ]
  },
  {
   "cell_type": "code",
   "execution_count": null,
   "id": "411f73eb",
   "metadata": {},
   "outputs": [],
   "source": []
  }
 ],
 "metadata": {
  "kernelspec": {
   "display_name": "Python 3",
   "language": "python",
   "name": "python3"
  },
  "language_info": {
   "codemirror_mode": {
    "name": "ipython",
    "version": 3
   },
   "file_extension": ".py",
   "mimetype": "text/x-python",
   "name": "python",
   "nbconvert_exporter": "python",
   "pygments_lexer": "ipython3",
   "version": "3.8.2"
  }
 },
 "nbformat": 4,
 "nbformat_minor": 5
}
