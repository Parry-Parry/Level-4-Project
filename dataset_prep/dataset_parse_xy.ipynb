{
 "cells": [
  {
   "cell_type": "code",
   "execution_count": 1,
   "id": "c23a9808",
   "metadata": {},
   "outputs": [],
   "source": [
    "import dask\n",
    "import dask.bag as db\n",
    "import dask.dataframe as dd\n",
    "from dask.diagnostics import ProgressBar\n",
    "\n",
    "import pandas as pd\n",
    "from pandas import DataFrame as df\n",
    "import re\n",
    "from datetime import datetime\n",
    "import numpy as np\n",
    "import pickle\n",
    "\n",
    "import seaborn as sns\n",
    "import matplotlib.pyplot as plt\n",
    "\n",
    "dask.config.set(scheduler='multiprocessing')\n",
    "dask.config.set({\"array.slicing.split_large_chunks\": True})\n",
    "    \n",
    "%matplotlib inline"
   ]
  },
  {
   "cell_type": "markdown",
   "id": "4cd3ed4d",
   "metadata": {},
   "source": [
    "### Combine 3 Datasets"
   ]
  },
  {
   "cell_type": "code",
   "execution_count": null,
   "id": "e7fa1272",
   "metadata": {},
   "outputs": [],
   "source": [
    "'''\n",
    "TODO:\n",
    "    Bring datasets in with dask\n",
    "    Convert to pandas\n",
    "    Combine datasets\n",
    "    Parse Code and Context\n",
    "'''"
   ]
  },
  {
   "cell_type": "markdown",
   "id": "e40233ef",
   "metadata": {},
   "source": [
    "# Regex to extract code blocks\n",
    "* Find max length block and transfer to new column\n",
    "* Check for \"ERROR\" and drop columns"
   ]
  },
  {
   "cell_type": "markdown",
   "id": "89de731b",
   "metadata": {},
   "source": [
    "## Parse main code block"
   ]
  },
  {
   "cell_type": "code",
   "execution_count": 2,
   "id": "15d9767f",
   "metadata": {},
   "outputs": [],
   "source": [
    "def extract_code_block(body):\n",
    "    pattern = r'<code>(.*?)</code>'\n",
    "    match = re.findall(pattern, body)\n",
    "    return \"Error\" if not match else str(max(match, key=len))"
   ]
  },
  {
   "cell_type": "markdown",
   "id": "1177281f",
   "metadata": {},
   "source": [
    "### Testing"
   ]
  },
  {
   "cell_type": "code",
   "execution_count": 3,
   "id": "5d7e3159",
   "metadata": {},
   "outputs": [],
   "source": [
    "string1 = \"Testing <code>long</code> something about this block <code>longer</code> xyz <code>longest</code>\"\n",
    "string2 = \"Test without code\""
   ]
  },
  {
   "cell_type": "code",
   "execution_count": 4,
   "id": "871093cc",
   "metadata": {},
   "outputs": [],
   "source": [
    "df = pd.DataFrame()\n",
    "df['body'] = [string1, string2]"
   ]
  },
  {
   "cell_type": "code",
   "execution_count": 5,
   "id": "e07df56a",
   "metadata": {},
   "outputs": [],
   "source": [
    "df['block'] = df['body'].map(lambda x : extract_code_block(x))"
   ]
  },
  {
   "cell_type": "code",
   "execution_count": 6,
   "id": "7f4d20c5",
   "metadata": {},
   "outputs": [
    {
     "data": {
      "text/html": [
       "<div>\n",
       "<style scoped>\n",
       "    .dataframe tbody tr th:only-of-type {\n",
       "        vertical-align: middle;\n",
       "    }\n",
       "\n",
       "    .dataframe tbody tr th {\n",
       "        vertical-align: top;\n",
       "    }\n",
       "\n",
       "    .dataframe thead th {\n",
       "        text-align: right;\n",
       "    }\n",
       "</style>\n",
       "<table border=\"1\" class=\"dataframe\">\n",
       "  <thead>\n",
       "    <tr style=\"text-align: right;\">\n",
       "      <th></th>\n",
       "      <th>body</th>\n",
       "      <th>block</th>\n",
       "    </tr>\n",
       "  </thead>\n",
       "  <tbody>\n",
       "    <tr>\n",
       "      <th>0</th>\n",
       "      <td>Testing &lt;code&gt;long&lt;/code&gt; something about this...</td>\n",
       "      <td>longest</td>\n",
       "    </tr>\n",
       "    <tr>\n",
       "      <th>1</th>\n",
       "      <td>Test without code</td>\n",
       "      <td>Error</td>\n",
       "    </tr>\n",
       "  </tbody>\n",
       "</table>\n",
       "</div>"
      ],
      "text/plain": [
       "                                                body    block\n",
       "0  Testing <code>long</code> something about this...  longest\n",
       "1                                  Test without code    Error"
      ]
     },
     "execution_count": 6,
     "metadata": {},
     "output_type": "execute_result"
    }
   ],
   "source": [
    "df"
   ]
  },
  {
   "cell_type": "markdown",
   "id": "4be3c3aa",
   "metadata": {},
   "source": [
    "## Parse Body"
   ]
  },
  {
   "cell_type": "code",
   "execution_count": 3,
   "id": "411f73eb",
   "metadata": {},
   "outputs": [],
   "source": [
    "def extract_body_block(body):\n",
    "    pattern = r'<p>(.*?)</p>'\n",
    "    code = r'(<.*?>)'\n",
    "    match = re.findall(pattern, body)\n",
    "    if not match:\n",
    "        return \"Error\"\n",
    "    else:\n",
    "        match = [re.sub(code, \"\", m) for m in match]\n",
    "        strings = [str(m).lower() for m in match]\n",
    "        return '\\n'.join(strings)"
   ]
  },
  {
   "cell_type": "markdown",
   "id": "e5988c37",
   "metadata": {},
   "source": [
    "## Structure of x, y pre-clean\n",
    "\n",
    "* Parse body and code for all rows\n",
    "* drop all colums apart from id, accepted id, score, text and code\n",
    "* pair code block of accepted with body of original into new frame\n",
    "\n",
    "## Cleaning\n",
    "\n",
    "* Compile code blocks?\n",
    "* Clean y data, maybe remove contractions?\n",
    "* Maybe generate new pairs to enrich language?\n",
    "\n"
   ]
  },
  {
   "cell_type": "code",
   "execution_count": 14,
   "id": "92db405c",
   "metadata": {},
   "outputs": [],
   "source": [
    "def parse_blocks(path):\n",
    "    tmp = dd.read_parquet(path, engine='fastparquet')  \n",
    "\n",
    "    print(\"Converting to Pandas Frame...\")\n",
    "    with ProgressBar():\n",
    "        df = tmp.compute()\n",
    "        df.reset_index()\n",
    "        print(\"Done\")\n",
    "\n",
    "    print(\"Extracting body text...\")\n",
    "    with ProgressBar():\n",
    "        df['text'] = df['body'].map(lambda x : extract_body_block(x))\n",
    "        print(\"Done\")\n",
    "    \n",
    "    print(\"Extracting body code...\")\n",
    "    with ProgressBar():\n",
    "        df['code'] = df['body'].map(lambda x : extract_code_block(x))\n",
    "        print(\"Done\")\n",
    "    \n",
    "    df.drop(['score', 'title', 'tags', 'body', 'post_type_id'], axis='columns', inplace=True)\n",
    "\n",
    "    return df"
   ]
  },
  {
   "cell_type": "code",
   "execution_count": 5,
   "id": "a4cb8d10",
   "metadata": {},
   "outputs": [],
   "source": [
    "def remove_errors(frame):\n",
    "    print(\"Removing empty code blocks...\")\n",
    "    frame = frame[frame['code'] != \"Error\"]\n",
    "    print(\"Done\")\n",
    "    print(\"Removing empty text blocks...\")\n",
    "    frame = frame[frame['text'] != \"Error\"]\n",
    "    print(\"Done\")\n",
    "    return frame"
   ]
  },
  {
   "cell_type": "markdown",
   "id": "205cff6e",
   "metadata": {},
   "source": [
    "## NEED TO FIND OUT FORMAT OF ACCEPTED ANSWER 'answer_id'"
   ]
  },
  {
   "cell_type": "code",
   "execution_count": null,
   "id": "32582a11",
   "metadata": {},
   "outputs": [],
   "source": [
    "def pairs(frame):\n",
    "    pass"
   ]
  },
  {
   "cell_type": "code",
   "execution_count": null,
   "id": "d73579ed",
   "metadata": {},
   "outputs": [],
   "source": [
    "def extract_pipe(path):\n",
    "    tmp = parse_blocks(path)\n",
    "    tmp = remove_errors(tmp)\n",
    "    frame = pairs(tmp)\n",
    "    return frame"
   ]
  },
  {
   "cell_type": "markdown",
   "id": "4abc158b",
   "metadata": {},
   "source": [
    "## Preparation"
   ]
  },
  {
   "cell_type": "code",
   "execution_count": 6,
   "id": "52be3ef8",
   "metadata": {},
   "outputs": [
    {
     "name": "stdout",
     "output_type": "stream",
     "text": [
      "Converting to Pandas Frame...\n",
      "[########################################] | 100% Completed | 13.1s\n",
      "Done\n",
      "Extracting body text...\n",
      "Done\n",
      "Extracting body code...\n",
      "Done\n",
      "Removing empty code blocks...\n",
      "Done\n",
      "Removing empty text blocks...\n",
      "Done\n"
     ]
    }
   ],
   "source": [
    "python = parse_blocks('D:\\PROJECT\\dataset_select\\python.parq')\n",
    "python = remove_errors(python)"
   ]
  },
  {
   "cell_type": "code",
   "execution_count": 7,
   "id": "0440cd98",
   "metadata": {},
   "outputs": [
    {
     "name": "stdout",
     "output_type": "stream",
     "text": [
      "Converting to Pandas Frame...\n",
      "[########################################] | 100% Completed | 22.0s\n",
      "Done\n",
      "Extracting body text...\n",
      "Done\n",
      "Extracting body code...\n",
      "Done\n",
      "Removing empty code blocks...\n",
      "Done\n",
      "Removing empty text blocks...\n",
      "Done\n"
     ]
    }
   ],
   "source": [
    "java = parse_blocks('D:\\PROJECT\\dataset_select\\java.parq')\n",
    "java = remove_errors(java)"
   ]
  },
  {
   "cell_type": "code",
   "execution_count": 8,
   "id": "f62abeb4",
   "metadata": {},
   "outputs": [
    {
     "name": "stdout",
     "output_type": "stream",
     "text": [
      "Converting to Pandas Frame...\n",
      "[########################################] | 100% Completed |  8.6s\n",
      "Done\n",
      "Extracting body text...\n",
      "Done\n",
      "Extracting body code...\n",
      "Done\n",
      "Removing empty code blocks...\n",
      "Done\n",
      "Removing empty text blocks...\n",
      "Done\n"
     ]
    }
   ],
   "source": [
    "c = parse_blocks('D:\\PROJECT\\dataset_select\\c.parq')\n",
    "c = remove_errors(c)"
   ]
  },
  {
   "cell_type": "code",
   "execution_count": 13,
   "id": "10c63547",
   "metadata": {},
   "outputs": [
    {
     "data": {
      "text/html": [
       "<div>\n",
       "<style scoped>\n",
       "    .dataframe tbody tr th:only-of-type {\n",
       "        vertical-align: middle;\n",
       "    }\n",
       "\n",
       "    .dataframe tbody tr th {\n",
       "        vertical-align: top;\n",
       "    }\n",
       "\n",
       "    .dataframe thead th {\n",
       "        text-align: right;\n",
       "    }\n",
       "</style>\n",
       "<table border=\"1\" class=\"dataframe\">\n",
       "  <thead>\n",
       "    <tr style=\"text-align: right;\">\n",
       "      <th></th>\n",
       "      <th>id</th>\n",
       "      <th>post_type_id</th>\n",
       "      <th>accepted_answer_id</th>\n",
       "      <th>text</th>\n",
       "      <th>code</th>\n",
       "    </tr>\n",
       "  </thead>\n",
       "  <tbody>\n",
       "    <tr>\n",
       "      <th>0</th>\n",
       "      <td>4</td>\n",
       "      <td>1</td>\n",
       "      <td>7</td>\n",
       "      <td>i want to use a track-bar to change a form's o...</td>\n",
       "      <td>Track-Bar</td>\n",
       "    </tr>\n",
       "    <tr>\n",
       "      <th>2</th>\n",
       "      <td>9</td>\n",
       "      <td>1</td>\n",
       "      <td>1404</td>\n",
       "      <td>given a datetime representing a person's birth...</td>\n",
       "      <td>DateTime</td>\n",
       "    </tr>\n",
       "    <tr>\n",
       "      <th>3</th>\n",
       "      <td>11</td>\n",
       "      <td>1</td>\n",
       "      <td>1248</td>\n",
       "      <td>given a specific datetime value, how do i disp...</td>\n",
       "      <td>DateTime</td>\n",
       "    </tr>\n",
       "    <tr>\n",
       "      <th>16</th>\n",
       "      <td>59</td>\n",
       "      <td>1</td>\n",
       "      <td>43110</td>\n",
       "      <td>i have a datatable with a name column. i want ...</td>\n",
       "      <td>DataTable</td>\n",
       "    </tr>\n",
       "    <tr>\n",
       "      <th>38</th>\n",
       "      <td>174</td>\n",
       "      <td>1</td>\n",
       "      <td>0</td>\n",
       "      <td>i want to print html from a c# web service.  t...</td>\n",
       "      <td>dialogArguments.___IE_PrintType</td>\n",
       "    </tr>\n",
       "    <tr>\n",
       "      <th>...</th>\n",
       "      <td>...</td>\n",
       "      <td>...</td>\n",
       "      <td>...</td>\n",
       "      <td>...</td>\n",
       "      <td>...</td>\n",
       "    </tr>\n",
       "    <tr>\n",
       "      <th>9243</th>\n",
       "      <td>69058919</td>\n",
       "      <td>1</td>\n",
       "      <td>0</td>\n",
       "      <td>admit i have 2 entities:\\ncategory\\nsubcategor...</td>\n",
       "      <td>OnModelCreating</td>\n",
       "    </tr>\n",
       "    <tr>\n",
       "      <th>9414</th>\n",
       "      <td>69059282</td>\n",
       "      <td>1</td>\n",
       "      <td>0</td>\n",
       "      <td>i am making a little project with react.js and...</td>\n",
       "      <td>Migrate entirely to HTTPS to have cookies sent...</td>\n",
       "    </tr>\n",
       "    <tr>\n",
       "      <th>9475</th>\n",
       "      <td>69059400</td>\n",
       "      <td>1</td>\n",
       "      <td>0</td>\n",
       "      <td>i'm trying to report mysqlexceptions to my exc...</td>\n",
       "      <td>Console.ReadKey()</td>\n",
       "    </tr>\n",
       "    <tr>\n",
       "      <th>10002</th>\n",
       "      <td>69060492</td>\n",
       "      <td>1</td>\n",
       "      <td>0</td>\n",
       "      <td>using .net core 3.1 in a non-production enviro...</td>\n",
       "      <td>UseDeveloperExceptionPage()</td>\n",
       "    </tr>\n",
       "    <tr>\n",
       "      <th>10216</th>\n",
       "      <td>69060951</td>\n",
       "      <td>1</td>\n",
       "      <td>0</td>\n",
       "      <td>i wrote a small tool with several lists (obser...</td>\n",
       "      <td>&amp;lt;UserControl&amp;gt;</td>\n",
       "    </tr>\n",
       "  </tbody>\n",
       "</table>\n",
       "<p>271789 rows × 5 columns</p>\n",
       "</div>"
      ],
      "text/plain": [
       "             id  post_type_id  accepted_answer_id  \\\n",
       "0             4             1                   7   \n",
       "2             9             1                1404   \n",
       "3            11             1                1248   \n",
       "16           59             1               43110   \n",
       "38          174             1                   0   \n",
       "...         ...           ...                 ...   \n",
       "9243   69058919             1                   0   \n",
       "9414   69059282             1                   0   \n",
       "9475   69059400             1                   0   \n",
       "10002  69060492             1                   0   \n",
       "10216  69060951             1                   0   \n",
       "\n",
       "                                                    text  \\\n",
       "0      i want to use a track-bar to change a form's o...   \n",
       "2      given a datetime representing a person's birth...   \n",
       "3      given a specific datetime value, how do i disp...   \n",
       "16     i have a datatable with a name column. i want ...   \n",
       "38     i want to print html from a c# web service.  t...   \n",
       "...                                                  ...   \n",
       "9243   admit i have 2 entities:\\ncategory\\nsubcategor...   \n",
       "9414   i am making a little project with react.js and...   \n",
       "9475   i'm trying to report mysqlexceptions to my exc...   \n",
       "10002  using .net core 3.1 in a non-production enviro...   \n",
       "10216  i wrote a small tool with several lists (obser...   \n",
       "\n",
       "                                                    code  \n",
       "0                                              Track-Bar  \n",
       "2                                               DateTime  \n",
       "3                                               DateTime  \n",
       "16                                             DataTable  \n",
       "38                       dialogArguments.___IE_PrintType  \n",
       "...                                                  ...  \n",
       "9243                                     OnModelCreating  \n",
       "9414   Migrate entirely to HTTPS to have cookies sent...  \n",
       "9475                                   Console.ReadKey()  \n",
       "10002                        UseDeveloperExceptionPage()  \n",
       "10216                                &lt;UserControl&gt;  \n",
       "\n",
       "[271789 rows x 5 columns]"
      ]
     },
     "execution_count": 13,
     "metadata": {},
     "output_type": "execute_result"
    }
   ],
   "source": []
  }
 ],
 "metadata": {
  "kernelspec": {
   "display_name": "Python 3",
   "language": "python",
   "name": "python3"
  },
  "language_info": {
   "codemirror_mode": {
    "name": "ipython",
    "version": 3
   },
   "file_extension": ".py",
   "mimetype": "text/x-python",
   "name": "python",
   "nbconvert_exporter": "python",
   "pygments_lexer": "ipython3",
   "version": "3.8.2"
  }
 },
 "nbformat": 4,
 "nbformat_minor": 5
}
